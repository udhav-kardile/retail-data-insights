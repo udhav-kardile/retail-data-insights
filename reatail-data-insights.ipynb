{
 "cells": [
  {
   "cell_type": "markdown",
   "id": "a5507c1f-756f-43ef-bf10-ee2546df8597",
   "metadata": {},
   "source": [
    "# 1. NumPy Operations"
   ]
  },
  {
   "cell_type": "code",
   "execution_count": 1,
   "id": "791a0180-7c22-463b-a8ac-487a289e0331",
   "metadata": {},
   "outputs": [],
   "source": [
    "import os\n",
    "import numpy as np\n",
    "import pandas as pd"
   ]
  },
  {
   "cell_type": "code",
   "execution_count": 3,
   "id": "aa24a594-a411-4d4d-bc3c-65e3c478d084",
   "metadata": {},
   "outputs": [
    {
     "data": {
      "text/plain": [
       "array([[ 83,   3,  79,  94],\n",
       "       [  6,   4,  77,  83],\n",
       "       [  2, 100,  83,  66],\n",
       "       [100,  96,  55,  14],\n",
       "       [ 21,  17,  75,  50],\n",
       "       [ 70,  79,  70,  99]])"
      ]
     },
     "execution_count": 3,
     "metadata": {},
     "output_type": "execute_result"
    }
   ],
   "source": [
    "# 1. Create a 6x4 array with random integers from 0 to 100\n",
    "arr1 = np.random.randint(0,101,size=(6,4))\n",
    "arr1"
   ]
  },
  {
   "cell_type": "code",
   "execution_count": 5,
   "id": "14101c10-2a90-4865-8af2-31025fd0c20b",
   "metadata": {},
   "outputs": [
    {
     "data": {
      "text/plain": [
       "array([47.        , 49.83333333, 73.16666667, 67.66666667])"
      ]
     },
     "execution_count": 5,
     "metadata": {},
     "output_type": "execute_result"
    }
   ],
   "source": [
    "# 2. Row-wise and Column-wise Means and Standard Deviations\n",
    "np.mean(arr1,axis=0)"
   ]
  },
  {
   "cell_type": "code",
   "execution_count": 7,
   "id": "3ab7173a-3a83-4e1d-a052-fee98d0f7584",
   "metadata": {},
   "outputs": [
    {
     "data": {
      "text/plain": [
       "array([38.76424469, 42.5653093 ,  9.02619644, 29.16999981])"
      ]
     },
     "execution_count": 7,
     "metadata": {},
     "output_type": "execute_result"
    }
   ],
   "source": [
    "np.std(arr1, axis=0)"
   ]
  },
  {
   "cell_type": "code",
   "execution_count": 9,
   "id": "ba161b29-b253-4658-821b-19110df19629",
   "metadata": {},
   "outputs": [
    {
     "data": {
      "text/plain": [
       "array([64.75, 42.5 , 62.75, 66.25, 40.75, 79.5 ])"
      ]
     },
     "execution_count": 9,
     "metadata": {},
     "output_type": "execute_result"
    }
   ],
   "source": [
    "np.mean(arr1,axis=1)"
   ]
  },
  {
   "cell_type": "code",
   "execution_count": 11,
   "id": "016e08ec-92b7-40c9-881b-21a47e9bfbd3",
   "metadata": {},
   "outputs": [
    {
     "data": {
      "text/plain": [
       "array([36.07197666, 37.56660751, 37.07677845, 34.93118234, 23.51993835,\n",
       "       11.84271928])"
      ]
     },
     "execution_count": 11,
     "metadata": {},
     "output_type": "execute_result"
    }
   ],
   "source": [
    "np.std(arr1,axis=1)"
   ]
  },
  {
   "cell_type": "code",
   "execution_count": 13,
   "id": "9ed0bae7-3f11-4582-bf7a-241d6ed590cd",
   "metadata": {},
   "outputs": [
    {
     "data": {
      "text/plain": [
       "array([ 83,  79,  94,  77,  83, 100,  83,  66, 100,  96,  55,  75,  70,\n",
       "        79,  70,  99])"
      ]
     },
     "execution_count": 13,
     "metadata": {},
     "output_type": "execute_result"
    }
   ],
   "source": [
    "# 3. Boolean indexing: values > 50\n",
    "gt_50 = arr1[arr1>50]\n",
    "gt_50"
   ]
  },
  {
   "cell_type": "code",
   "execution_count": 15,
   "id": "5bf403bd-e0ff-47d5-b17b-36ab24be348e",
   "metadata": {},
   "outputs": [
    {
     "data": {
      "text/plain": [
       "array([[83,  3, 79, -1],\n",
       "       [-1, -1, 77, 83],\n",
       "       [-1, -1, 83, -1],\n",
       "       [-1, -1, 55, -1],\n",
       "       [21, 17, 75, -1],\n",
       "       [-1, 79, -1, 99]])"
      ]
     },
     "execution_count": 15,
     "metadata": {},
     "output_type": "execute_result"
    }
   ],
   "source": [
    "# 4. Replace even numbers with -1\n",
    "e_arr = np.where(arr1%2==0, -1, arr1)\n",
    "e_arr"
   ]
  },
  {
   "cell_type": "code",
   "execution_count": 17,
   "id": "320bbe2e-3890-4b4c-91a5-aaea9533e72d",
   "metadata": {},
   "outputs": [
    {
     "data": {
      "text/plain": [
       "59.416666666666664"
      ]
     },
     "execution_count": 17,
     "metadata": {},
     "output_type": "execute_result"
    }
   ],
   "source": [
    "# 5. Normalize the array (subtract mean and divide by std).\n",
    "mean = arr1.mean()\n",
    "mean"
   ]
  },
  {
   "cell_type": "code",
   "execution_count": 19,
   "id": "8a09023e-84ac-408d-928d-995b6a4285fb",
   "metadata": {},
   "outputs": [
    {
     "data": {
      "text/plain": [
       "34.46002111948795"
      ]
     },
     "execution_count": 19,
     "metadata": {},
     "output_type": "execute_result"
    }
   ],
   "source": [
    "std = arr1.std()\n",
    "std"
   ]
  },
  {
   "cell_type": "code",
   "execution_count": 21,
   "id": "4e34e0dd-291e-4497-85bb-ece5e6786840",
   "metadata": {},
   "outputs": [
    {
     "data": {
      "text/plain": [
       "array([[ 0.68436793, -1.63716286,  0.56829139,  1.00357841],\n",
       "       [-1.55010545, -1.60814372,  0.51025312,  0.68436793],\n",
       "       [-1.66618199,  1.17769322,  0.68436793,  0.19104264],\n",
       "       [ 1.17769322,  1.06161668, -0.12816785, -1.31795237],\n",
       "       [-1.11481843, -1.23089497,  0.45221485, -0.27326352],\n",
       "       [ 0.30711918,  0.56829139,  0.30711918,  1.14867409]])"
      ]
     },
     "execution_count": 21,
     "metadata": {},
     "output_type": "execute_result"
    }
   ],
   "source": [
    "nor_arr = (arr1-mean)/std\n",
    "nor_arr"
   ]
  },
  {
   "cell_type": "code",
   "execution_count": 23,
   "id": "750579ff-6671-4aaa-8c25-f98ac3e522c3",
   "metadata": {},
   "outputs": [
    {
     "data": {
      "text/plain": [
       "array([[[0.36134854, 0.80198331, 0.00330485, 0.87132136, 0.99891183],\n",
       "        [0.84989793, 0.74853115, 0.00278889, 0.8834555 , 0.60027743],\n",
       "        [0.8139085 , 0.31639545, 0.79735262, 0.11679056, 0.89279741],\n",
       "        [0.48699534, 0.40487397, 0.64081261, 0.60552902, 0.25021284]],\n",
       "\n",
       "       [[0.97791743, 0.96143965, 0.42728335, 0.70988676, 0.632371  ],\n",
       "        [0.00782015, 0.83579265, 0.95243697, 0.07851855, 0.11638261],\n",
       "        [0.65682939, 0.34751484, 0.93581349, 0.32657694, 0.99745425],\n",
       "        [0.77077809, 0.31429411, 0.023588  , 0.02770867, 0.83399087]],\n",
       "\n",
       "       [[0.26644215, 0.84920949, 0.61842477, 0.79807141, 0.87310002],\n",
       "        [0.66300154, 0.84045602, 0.01247286, 0.2346601 , 0.75606758],\n",
       "        [0.80811912, 0.47767054, 0.09304121, 0.7529974 , 0.17500828],\n",
       "        [0.43766252, 0.46301797, 0.30187521, 0.93499294, 0.82428884]]])"
      ]
     },
     "execution_count": 23,
     "metadata": {},
     "output_type": "execute_result"
    }
   ],
   "source": [
    "# 6. Create a 3D array of shape (3, 4, 5) with random floats\n",
    "arr_3d = np.random.rand(3,4,5)\n",
    "arr_3d"
   ]
  },
  {
   "cell_type": "code",
   "execution_count": 25,
   "id": "cc027377-6af8-47e3-a713-6f90e66b929b",
   "metadata": {},
   "outputs": [
    {
     "data": {
      "text/plain": [
       "(2, 3)"
      ]
     },
     "execution_count": 25,
     "metadata": {},
     "output_type": "execute_result"
    }
   ],
   "source": [
    "# 7. Convert list of lists to NumPy array, get shape and size\n",
    "ls=[[1,2,3],[4,5,6]]\n",
    "ls_ar=np.array(ls)\n",
    "ls_ar.shape"
   ]
  },
  {
   "cell_type": "code",
   "execution_count": 27,
   "id": "7c8f362d-46b9-4919-a83b-eb729677e363",
   "metadata": {},
   "outputs": [
    {
     "data": {
      "text/plain": [
       "6"
      ]
     },
     "execution_count": 27,
     "metadata": {},
     "output_type": "execute_result"
    }
   ],
   "source": [
    "ls_ar.size"
   ]
  },
  {
   "cell_type": "code",
   "execution_count": 29,
   "id": "0f3c2f1d-512c-4970-b764-9b5237996ef3",
   "metadata": {},
   "outputs": [
    {
     "data": {
      "text/plain": [
       "array([[1., 0., 0., 0.],\n",
       "       [0., 1., 0., 0.],\n",
       "       [0., 0., 1., 0.],\n",
       "       [0., 0., 0., 1.]])"
      ]
     },
     "execution_count": 29,
     "metadata": {},
     "output_type": "execute_result"
    }
   ],
   "source": [
    "#8. Create an identity matrix and add it to a random matrix of the same size.\n",
    "id_mat=np.eye(4)\n",
    "id_mat"
   ]
  },
  {
   "cell_type": "code",
   "execution_count": 31,
   "id": "713a0406-6844-4c6d-89b9-d8c756ef4413",
   "metadata": {},
   "outputs": [
    {
     "data": {
      "text/plain": [
       "array([[0.80527982, 0.69728462, 0.01450397, 0.42014519],\n",
       "       [0.7572986 , 0.43301444, 0.09771206, 0.40219628],\n",
       "       [0.14384611, 0.22237928, 0.30978229, 0.86011444],\n",
       "       [0.15368393, 0.15104858, 0.03971003, 0.61898145]])"
      ]
     },
     "execution_count": 31,
     "metadata": {},
     "output_type": "execute_result"
    }
   ],
   "source": [
    "random_mat=np.random.rand(4,4)\n",
    "random_mat"
   ]
  },
  {
   "cell_type": "code",
   "execution_count": 33,
   "id": "4a96fa53-7fa3-4760-b495-2da39958a392",
   "metadata": {},
   "outputs": [
    {
     "data": {
      "text/plain": [
       "array([1, 2, 3, 4, 5, 6])"
      ]
     },
     "execution_count": 33,
     "metadata": {},
     "output_type": "execute_result"
    }
   ],
   "source": [
    "#9.\tFlatten a 2D array and reshape it into a different valid shape.\n",
    "flat_arr=ls_ar.flatten()\n",
    "flat_arr"
   ]
  },
  {
   "cell_type": "code",
   "execution_count": 35,
   "id": "67ad1bdb-fde0-40ed-ab9c-4d2bff058fdf",
   "metadata": {},
   "outputs": [
    {
     "data": {
      "text/plain": [
       "(6,)"
      ]
     },
     "execution_count": 35,
     "metadata": {},
     "output_type": "execute_result"
    }
   ],
   "source": [
    "flat_arr.shape"
   ]
  },
  {
   "cell_type": "code",
   "execution_count": 37,
   "id": "ba325659-c5fc-41ae-a620-879b2864d280",
   "metadata": {},
   "outputs": [
    {
     "data": {
      "text/plain": [
       "array([[1, 2, 3],\n",
       "       [4, 5, 6]])"
      ]
     },
     "execution_count": 37,
     "metadata": {},
     "output_type": "execute_result"
    }
   ],
   "source": [
    "reshap=flat_arr.reshape(2,3)\n",
    "reshap"
   ]
  },
  {
   "cell_type": "code",
   "execution_count": 39,
   "id": "5426f753-8942-4446-9a1b-a0d0a1fbe5dc",
   "metadata": {},
   "outputs": [
    {
     "data": {
      "text/plain": [
       "array([47.        , 49.83333333, 73.16666667, 67.66666667])"
      ]
     },
     "execution_count": 39,
     "metadata": {},
     "output_type": "execute_result"
    }
   ],
   "source": [
    "# 10. Use broadcasting to subtract the column mean from a 2D array.\n",
    "col_mean=arr1.mean(axis=0)\n",
    "col_mean"
   ]
  },
  {
   "cell_type": "code",
   "execution_count": 41,
   "id": "16ca080d-35aa-46ca-bc84-0bc6547dda6e",
   "metadata": {},
   "outputs": [
    {
     "data": {
      "text/plain": [
       "array([[ 36.        , -46.83333333,   5.83333333,  26.33333333],\n",
       "       [-41.        , -45.83333333,   3.83333333,  15.33333333],\n",
       "       [-45.        ,  50.16666667,   9.83333333,  -1.66666667],\n",
       "       [ 53.        ,  46.16666667, -18.16666667, -53.66666667],\n",
       "       [-26.        , -32.83333333,   1.83333333, -17.66666667],\n",
       "       [ 23.        ,  29.16666667,  -3.16666667,  31.33333333]])"
      ]
     },
     "execution_count": 41,
     "metadata": {},
     "output_type": "execute_result"
    }
   ],
   "source": [
    "broad_cast=arr1-col_mean\n",
    "broad_cast"
   ]
  },
  {
   "cell_type": "code",
   "execution_count": 43,
   "id": "08cec4c1-a685-4fb5-80d0-6151775d1390",
   "metadata": {},
   "outputs": [
    {
     "data": {
      "text/plain": [
       "array([1, 1, 5, 1, 6, 3, 5, 5, 4, 5, 5, 2, 2, 3, 6, 3, 2, 4, 2, 2, 2, 6,\n",
       "       5, 3, 2, 5, 2, 3, 4, 2, 5, 6, 5, 6, 6, 6, 4, 5, 4, 2, 1, 3, 1, 1,\n",
       "       3, 4, 6, 4, 6, 6, 4, 2, 1, 3, 4, 1, 4, 3, 2, 1, 4, 1, 6, 6, 1, 5,\n",
       "       1, 3, 6, 3, 1, 5, 2, 1, 5, 3, 4, 6, 2, 2, 1, 3, 4, 3, 5, 5, 6, 1,\n",
       "       6, 4, 1, 5, 3, 5, 4, 1, 6, 5, 6, 5, 2, 3, 6, 6, 4, 2, 5, 2, 4, 3,\n",
       "       2, 6, 6, 3, 5, 6, 4, 3, 2, 6, 4, 2, 1, 2, 4, 1, 2, 2, 4, 5, 6, 3,\n",
       "       5, 3, 3, 4, 1, 5, 2, 4, 1, 4, 2, 4, 3, 2, 4, 5, 5, 3, 6, 4, 1, 5,\n",
       "       4, 3, 2, 2, 6, 3, 6, 4, 1, 6, 3, 6, 4, 6, 6, 2, 2, 2, 5, 4, 3, 6,\n",
       "       2, 2, 3, 6, 2, 3, 6, 5, 3, 4, 1, 2, 6, 2, 3, 3, 5, 1, 1, 1, 6, 5,\n",
       "       2, 2, 2, 6, 4, 6, 6, 2, 1, 2, 3, 4, 3, 5, 5, 1, 6, 2, 2, 5, 2, 3,\n",
       "       5, 1, 1, 5, 3, 1, 1, 2, 5, 5, 2, 5, 3, 4, 3, 6, 3, 3, 2, 1, 3, 6,\n",
       "       6, 5, 2, 6, 3, 3, 5, 6, 3, 3, 1, 4, 6, 5, 2, 2, 6, 4, 4, 3, 3, 3,\n",
       "       6, 4, 6, 1, 4, 5, 2, 1, 4, 6, 6, 4, 3, 2, 3, 1, 4, 6, 6, 5, 2, 3,\n",
       "       1, 4, 4, 4, 6, 5, 6, 6, 4, 3, 6, 5, 6, 6, 6, 6, 2, 2, 4, 3, 3, 3,\n",
       "       5, 2, 1, 4, 3, 2, 6, 2, 6, 6, 4, 2, 4, 5, 4, 6, 4, 5, 6, 5, 2, 6,\n",
       "       1, 5, 2, 3, 5, 4, 1, 3, 6, 1, 5, 4, 5, 4, 3, 1, 4, 1, 6, 3, 5, 5,\n",
       "       1, 2, 1, 2, 6, 1, 2, 4, 6, 5, 1, 4, 5, 1, 3, 5, 1, 5, 1, 4, 1, 6,\n",
       "       5, 3, 2, 2, 5, 3, 5, 3, 5, 2, 4, 4, 4, 5, 6, 4, 4, 1, 4, 3, 3, 4,\n",
       "       1, 2, 5, 6, 5, 1, 4, 6, 2, 2, 6, 5, 5, 5, 5, 3, 1, 2, 1, 3, 3, 5,\n",
       "       3, 6, 4, 4, 6, 5, 6, 1, 6, 3, 1, 4, 3, 2, 3, 4, 5, 4, 5, 3, 3, 2,\n",
       "       3, 6, 1, 4, 4, 5, 4, 6, 2, 1, 2, 3, 1, 1, 3, 5, 6, 1, 4, 2, 4, 4,\n",
       "       5, 2, 3, 2, 3, 5, 1, 3, 4, 3, 4, 5, 4, 4, 6, 4, 1, 4, 6, 6, 3, 4,\n",
       "       2, 1, 6, 1, 6, 4, 5, 5, 5, 5, 2, 6, 1, 3, 5, 3, 3, 1, 1, 4, 5, 3,\n",
       "       6, 6, 2, 2, 4, 2, 6, 2, 3, 3, 6, 1, 2, 2, 1, 3, 4, 3, 2, 5, 5, 4,\n",
       "       1, 2, 2, 6, 5, 3, 6, 2, 5, 4, 3, 5, 4, 1, 5, 2, 1, 4, 4, 5, 6, 5,\n",
       "       6, 1, 4, 1, 1, 3, 3, 5, 3, 2, 4, 6, 6, 2, 1, 1, 1, 1, 3, 1, 4, 6,\n",
       "       5, 3, 6, 5, 6, 5, 4, 2, 5, 6, 2, 5, 2, 6, 6, 2, 1, 6, 5, 1, 2, 4,\n",
       "       6, 6, 6, 4, 2, 5, 4, 2, 3, 5, 4, 1, 6, 5, 5, 6, 4, 3, 1, 1, 5, 4,\n",
       "       3, 3, 4, 6, 4, 4, 4, 5, 4, 3, 1, 2, 2, 5, 4, 2, 3, 5, 6, 4, 6, 6,\n",
       "       2, 4, 1, 5, 3, 4, 1, 4, 6, 6, 6, 2, 2, 1, 4, 1, 1, 6, 5, 1, 1, 2,\n",
       "       6, 3, 2, 1, 4, 1, 1, 1, 4, 1, 6, 3, 5, 3, 3, 1, 6, 4, 3, 4, 6, 5,\n",
       "       4, 3, 2, 6, 2, 4, 5, 1, 2, 4, 6, 2, 1, 5, 2, 4, 6, 1, 3, 4, 3, 5,\n",
       "       6, 5, 3, 4, 1, 6, 6, 5, 4, 6, 6, 6, 1, 6, 2, 2, 4, 1, 3, 4, 2, 4,\n",
       "       5, 4, 3, 3, 6, 2, 6, 4, 2, 5, 6, 2, 2, 4, 4, 4, 1, 1, 2, 6, 1, 6,\n",
       "       6, 2, 2, 5, 5, 5, 6, 4, 6, 3, 3, 5, 2, 4, 1, 4, 1, 4, 4, 1, 6, 4,\n",
       "       3, 2, 2, 1, 2, 2, 6, 3, 5, 4, 1, 5, 2, 4, 5, 2, 3, 5, 2, 1, 3, 5,\n",
       "       5, 2, 3, 1, 2, 2, 5, 6, 3, 6, 3, 2, 4, 2, 5, 5, 6, 1, 1, 5, 2, 4,\n",
       "       3, 5, 3, 1, 5, 2, 2, 2, 3, 6, 2, 5, 6, 2, 5, 2, 6, 1, 6, 6, 6, 2,\n",
       "       3, 3, 2, 4, 1, 2, 3, 3, 6, 2, 1, 4, 3, 3, 5, 1, 5, 4, 4, 5, 5, 5,\n",
       "       4, 3, 1, 4, 4, 5, 5, 4, 5, 4, 3, 5, 4, 1, 4, 5, 5, 1, 3, 4, 3, 2,\n",
       "       4, 5, 2, 1, 4, 6, 5, 6, 3, 1, 6, 2, 5, 2, 4, 2, 1, 1, 3, 6, 5, 1,\n",
       "       6, 5, 2, 1, 1, 2, 3, 5, 6, 1, 3, 6, 4, 3, 1, 5, 3, 5, 6, 5, 1, 1,\n",
       "       5, 5, 3, 2, 2, 1, 3, 1, 5, 5, 1, 6, 3, 1, 2, 2, 5, 3, 6, 4, 1, 5,\n",
       "       4, 3, 1, 1, 1, 1, 6, 4, 5, 4, 3, 2, 6, 2, 3, 2, 5, 5, 4, 4, 1, 6,\n",
       "       5, 4, 2, 4, 3, 4, 6, 1, 3, 4, 4, 4, 6, 6, 2, 2, 4, 3, 6, 6, 3, 1,\n",
       "       5, 1, 4, 6, 3, 6, 3, 1, 3, 1])"
      ]
     },
     "execution_count": 43,
     "metadata": {},
     "output_type": "execute_result"
    }
   ],
   "source": [
    "#11. Simulate 1000 dice rolls and calculate the frequency of each face (1–6).\n",
    "dic_rol=np.random.randint(1,7,size=1000)\n",
    "dic_rol"
   ]
  },
  {
   "cell_type": "code",
   "execution_count": 45,
   "id": "71674048-f396-4b55-8b21-950ecdb55e33",
   "metadata": {},
   "outputs": [
    {
     "data": {
      "text/plain": [
       "1000"
      ]
     },
     "execution_count": 45,
     "metadata": {},
     "output_type": "execute_result"
    }
   ],
   "source": [
    "dic_rol.size"
   ]
  },
  {
   "cell_type": "code",
   "execution_count": 47,
   "id": "fc97578f-3941-44b3-904e-85911a3feabd",
   "metadata": {},
   "outputs": [
    {
     "data": {
      "text/plain": [
       "(array([1, 2, 3, 4, 5, 6]), array([157, 165, 160, 175, 169, 174], dtype=int64))"
      ]
     },
     "execution_count": 47,
     "metadata": {},
     "output_type": "execute_result"
    }
   ],
   "source": [
    "(uniq,cout)=np.unique(dic_rol,return_counts=True)\n",
    "(uniq,cout)"
   ]
  },
  {
   "cell_type": "code",
   "execution_count": 49,
   "id": "de2715ff-dcf3-4ad7-9229-f3d11dc996d7",
   "metadata": {},
   "outputs": [
    {
     "data": {
      "text/plain": [
       "{1: 157, 2: 165, 3: 160, 4: 175, 5: 169, 6: 174}"
      ]
     },
     "execution_count": 49,
     "metadata": {},
     "output_type": "execute_result"
    }
   ],
   "source": [
    "freq=dict(zip(uniq,cout))\n",
    "freq"
   ]
  },
  {
   "cell_type": "code",
   "execution_count": 51,
   "id": "14a1fdf0-72c1-4a67-b72c-445d43581a66",
   "metadata": {},
   "outputs": [
    {
     "data": {
      "text/plain": [
       "array([ 83,   3,  79,  94,   6,   4,  77,  83,   2, 100,  83,  66, 100,\n",
       "        96,  55,  14,  21,  17,  75,  50,  70,  79,  70,  99])"
      ]
     },
     "execution_count": 51,
     "metadata": {},
     "output_type": "execute_result"
    }
   ],
   "source": [
    "#12.Find the top 3 largest values in a NumPy array without sorting the whole array.\n",
    "flat_arr=arr1.flatten()\n",
    "flat_arr"
   ]
  },
  {
   "cell_type": "code",
   "execution_count": 53,
   "id": "2bc8d619-4a84-4f76-8bc2-3be7465bd1d5",
   "metadata": {},
   "outputs": [
    {
     "data": {
      "text/plain": [
       "array([ 99, 100, 100])"
      ]
     },
     "execution_count": 53,
     "metadata": {},
     "output_type": "execute_result"
    }
   ],
   "source": [
    "top_3 = np.partition(flat_arr,-3)[-3:]\n",
    "top_3"
   ]
  },
  {
   "cell_type": "code",
   "execution_count": 55,
   "id": "b9a0a06e-328e-4386-9498-5c853567d4f1",
   "metadata": {},
   "outputs": [],
   "source": [
    "#14.Generate 1 million random num and calculate the percentiles (25th, 50th, 75th).\n",
    "ran_1m=np.random.rand(1000000)"
   ]
  },
  {
   "cell_type": "code",
   "execution_count": 57,
   "id": "cf73e844-1b13-405d-96f8-635d044a3a8b",
   "metadata": {},
   "outputs": [
    {
     "data": {
      "text/plain": [
       "0.24983324763848033"
      ]
     },
     "execution_count": 57,
     "metadata": {},
     "output_type": "execute_result"
    }
   ],
   "source": [
    "p_25=np.percentile(ran_1m,25)\n",
    "p_25"
   ]
  },
  {
   "cell_type": "code",
   "execution_count": 59,
   "id": "fc33415f-4e3c-4b22-95f0-4d05b9cb78e2",
   "metadata": {},
   "outputs": [
    {
     "data": {
      "text/plain": [
       "0.49997960191442314"
      ]
     },
     "execution_count": 59,
     "metadata": {},
     "output_type": "execute_result"
    }
   ],
   "source": [
    "p_50=np.percentile(ran_1m,50)\n",
    "p_50"
   ]
  },
  {
   "cell_type": "code",
   "execution_count": 61,
   "id": "56ea158f-f81f-463f-9220-84b15314cc37",
   "metadata": {},
   "outputs": [
    {
     "data": {
      "text/plain": [
       "0.7498910453770524"
      ]
     },
     "execution_count": 61,
     "metadata": {},
     "output_type": "execute_result"
    }
   ],
   "source": [
    "p_75=np.percentile(ran_1m,75)\n",
    "p_75"
   ]
  },
  {
   "cell_type": "code",
   "execution_count": null,
   "id": "181d2f05-0b73-4601-9cc1-3ab021fac7ac",
   "metadata": {},
   "outputs": [],
   "source": []
  },
  {
   "cell_type": "markdown",
   "id": "f03544c2-92be-4f0d-802d-8317ebcc6a9d",
   "metadata": {},
   "source": [
    "# Part 2: Data Cleaning with Pandas"
   ]
  },
  {
   "cell_type": "code",
   "execution_count": null,
   "id": "0a7883f5-8b27-4563-9db6-e2a1c9bd37e0",
   "metadata": {},
   "outputs": [],
   "source": []
  },
  {
   "cell_type": "code",
   "execution_count": 66,
   "id": "308699fd-57bd-48ce-92f9-c10b23669c79",
   "metadata": {},
   "outputs": [
    {
     "data": {
      "text/html": [
       "<div>\n",
       "<style scoped>\n",
       "    .dataframe tbody tr th:only-of-type {\n",
       "        vertical-align: middle;\n",
       "    }\n",
       "\n",
       "    .dataframe tbody tr th {\n",
       "        vertical-align: top;\n",
       "    }\n",
       "\n",
       "    .dataframe thead th {\n",
       "        text-align: right;\n",
       "    }\n",
       "</style>\n",
       "<table border=\"1\" class=\"dataframe\">\n",
       "  <thead>\n",
       "    <tr style=\"text-align: right;\">\n",
       "      <th></th>\n",
       "      <th>Invoice</th>\n",
       "      <th>StockCode</th>\n",
       "      <th>Description</th>\n",
       "      <th>Quantity</th>\n",
       "      <th>InvoiceDate</th>\n",
       "      <th>Price</th>\n",
       "      <th>Customer ID</th>\n",
       "      <th>Country</th>\n",
       "    </tr>\n",
       "  </thead>\n",
       "  <tbody>\n",
       "    <tr>\n",
       "      <th>0</th>\n",
       "      <td>536365</td>\n",
       "      <td>85123A</td>\n",
       "      <td>WHITE HANGING HEART T-LIGHT HOLDER</td>\n",
       "      <td>6</td>\n",
       "      <td>2010-12-01 08:26:00</td>\n",
       "      <td>2.55</td>\n",
       "      <td>17850.0</td>\n",
       "      <td>United Kingdom</td>\n",
       "    </tr>\n",
       "    <tr>\n",
       "      <th>1</th>\n",
       "      <td>536365</td>\n",
       "      <td>71053</td>\n",
       "      <td>WHITE METAL LANTERN</td>\n",
       "      <td>6</td>\n",
       "      <td>2010-12-01 08:26:00</td>\n",
       "      <td>3.39</td>\n",
       "      <td>17850.0</td>\n",
       "      <td>United Kingdom</td>\n",
       "    </tr>\n",
       "    <tr>\n",
       "      <th>2</th>\n",
       "      <td>536365</td>\n",
       "      <td>84406B</td>\n",
       "      <td>CREAM CUPID HEARTS COAT HANGER</td>\n",
       "      <td>8</td>\n",
       "      <td>2010-12-01 08:26:00</td>\n",
       "      <td>2.75</td>\n",
       "      <td>17850.0</td>\n",
       "      <td>United Kingdom</td>\n",
       "    </tr>\n",
       "    <tr>\n",
       "      <th>3</th>\n",
       "      <td>536365</td>\n",
       "      <td>84029G</td>\n",
       "      <td>KNITTED UNION FLAG HOT WATER BOTTLE</td>\n",
       "      <td>6</td>\n",
       "      <td>2010-12-01 08:26:00</td>\n",
       "      <td>3.39</td>\n",
       "      <td>17850.0</td>\n",
       "      <td>United Kingdom</td>\n",
       "    </tr>\n",
       "    <tr>\n",
       "      <th>4</th>\n",
       "      <td>536365</td>\n",
       "      <td>84029E</td>\n",
       "      <td>RED WOOLLY HOTTIE WHITE HEART.</td>\n",
       "      <td>6</td>\n",
       "      <td>2010-12-01 08:26:00</td>\n",
       "      <td>3.39</td>\n",
       "      <td>17850.0</td>\n",
       "      <td>United Kingdom</td>\n",
       "    </tr>\n",
       "  </tbody>\n",
       "</table>\n",
       "</div>"
      ],
      "text/plain": [
       "  Invoice StockCode                          Description  Quantity  \\\n",
       "0  536365    85123A   WHITE HANGING HEART T-LIGHT HOLDER         6   \n",
       "1  536365     71053                  WHITE METAL LANTERN         6   \n",
       "2  536365    84406B       CREAM CUPID HEARTS COAT HANGER         8   \n",
       "3  536365    84029G  KNITTED UNION FLAG HOT WATER BOTTLE         6   \n",
       "4  536365    84029E       RED WOOLLY HOTTIE WHITE HEART.         6   \n",
       "\n",
       "          InvoiceDate  Price  Customer ID         Country  \n",
       "0 2010-12-01 08:26:00   2.55      17850.0  United Kingdom  \n",
       "1 2010-12-01 08:26:00   3.39      17850.0  United Kingdom  \n",
       "2 2010-12-01 08:26:00   2.75      17850.0  United Kingdom  \n",
       "3 2010-12-01 08:26:00   3.39      17850.0  United Kingdom  \n",
       "4 2010-12-01 08:26:00   3.39      17850.0  United Kingdom  "
      ]
     },
     "execution_count": 66,
     "metadata": {},
     "output_type": "execute_result"
    }
   ],
   "source": [
    "# 1. Load the first sheet of the Excel file into a DataFrame\n",
    "df = pd.read_excel('online_retail.xlsx',sheet_name='Year 2010-2011')\n",
    "df.head()"
   ]
  },
  {
   "cell_type": "code",
   "execution_count": 67,
   "id": "11589417-7a4d-4ba0-b6e6-408db002e92a",
   "metadata": {},
   "outputs": [
    {
     "data": {
      "text/html": [
       "<div>\n",
       "<style scoped>\n",
       "    .dataframe tbody tr th:only-of-type {\n",
       "        vertical-align: middle;\n",
       "    }\n",
       "\n",
       "    .dataframe tbody tr th {\n",
       "        vertical-align: top;\n",
       "    }\n",
       "\n",
       "    .dataframe thead th {\n",
       "        text-align: right;\n",
       "    }\n",
       "</style>\n",
       "<table border=\"1\" class=\"dataframe\">\n",
       "  <thead>\n",
       "    <tr style=\"text-align: right;\">\n",
       "      <th></th>\n",
       "      <th>Invoice</th>\n",
       "      <th>StockCode</th>\n",
       "      <th>Description</th>\n",
       "      <th>Quantity</th>\n",
       "      <th>InvoiceDate</th>\n",
       "      <th>Price</th>\n",
       "      <th>Customer ID</th>\n",
       "      <th>Country</th>\n",
       "    </tr>\n",
       "  </thead>\n",
       "  <tbody>\n",
       "    <tr>\n",
       "      <th>541905</th>\n",
       "      <td>581587</td>\n",
       "      <td>22899</td>\n",
       "      <td>CHILDREN'S APRON DOLLY GIRL</td>\n",
       "      <td>6</td>\n",
       "      <td>2011-12-09 12:50:00</td>\n",
       "      <td>2.10</td>\n",
       "      <td>12680.0</td>\n",
       "      <td>France</td>\n",
       "    </tr>\n",
       "    <tr>\n",
       "      <th>541906</th>\n",
       "      <td>581587</td>\n",
       "      <td>23254</td>\n",
       "      <td>CHILDRENS CUTLERY DOLLY GIRL</td>\n",
       "      <td>4</td>\n",
       "      <td>2011-12-09 12:50:00</td>\n",
       "      <td>4.15</td>\n",
       "      <td>12680.0</td>\n",
       "      <td>France</td>\n",
       "    </tr>\n",
       "    <tr>\n",
       "      <th>541907</th>\n",
       "      <td>581587</td>\n",
       "      <td>23255</td>\n",
       "      <td>CHILDRENS CUTLERY CIRCUS PARADE</td>\n",
       "      <td>4</td>\n",
       "      <td>2011-12-09 12:50:00</td>\n",
       "      <td>4.15</td>\n",
       "      <td>12680.0</td>\n",
       "      <td>France</td>\n",
       "    </tr>\n",
       "    <tr>\n",
       "      <th>541908</th>\n",
       "      <td>581587</td>\n",
       "      <td>22138</td>\n",
       "      <td>BAKING SET 9 PIECE RETROSPOT</td>\n",
       "      <td>3</td>\n",
       "      <td>2011-12-09 12:50:00</td>\n",
       "      <td>4.95</td>\n",
       "      <td>12680.0</td>\n",
       "      <td>France</td>\n",
       "    </tr>\n",
       "    <tr>\n",
       "      <th>541909</th>\n",
       "      <td>581587</td>\n",
       "      <td>POST</td>\n",
       "      <td>POSTAGE</td>\n",
       "      <td>1</td>\n",
       "      <td>2011-12-09 12:50:00</td>\n",
       "      <td>18.00</td>\n",
       "      <td>12680.0</td>\n",
       "      <td>France</td>\n",
       "    </tr>\n",
       "  </tbody>\n",
       "</table>\n",
       "</div>"
      ],
      "text/plain": [
       "       Invoice StockCode                      Description  Quantity  \\\n",
       "541905  581587     22899     CHILDREN'S APRON DOLLY GIRL          6   \n",
       "541906  581587     23254    CHILDRENS CUTLERY DOLLY GIRL          4   \n",
       "541907  581587     23255  CHILDRENS CUTLERY CIRCUS PARADE         4   \n",
       "541908  581587     22138    BAKING SET 9 PIECE RETROSPOT          3   \n",
       "541909  581587      POST                          POSTAGE         1   \n",
       "\n",
       "               InvoiceDate  Price  Customer ID Country  \n",
       "541905 2011-12-09 12:50:00   2.10      12680.0  France  \n",
       "541906 2011-12-09 12:50:00   4.15      12680.0  France  \n",
       "541907 2011-12-09 12:50:00   4.15      12680.0  France  \n",
       "541908 2011-12-09 12:50:00   4.95      12680.0  France  \n",
       "541909 2011-12-09 12:50:00  18.00      12680.0  France  "
      ]
     },
     "execution_count": 67,
     "metadata": {},
     "output_type": "execute_result"
    }
   ],
   "source": [
    "# 2. Display the first 5 and last 5 rows\n",
    "df.tail()"
   ]
  },
  {
   "cell_type": "code",
   "execution_count": 68,
   "id": "e02254ff-99c8-44b9-b21b-def0b34b0ce4",
   "metadata": {},
   "outputs": [
    {
     "data": {
      "text/plain": [
       "Invoice             0\n",
       "StockCode           0\n",
       "Description      1454\n",
       "Quantity            0\n",
       "InvoiceDate         0\n",
       "Price               0\n",
       "Customer ID    135080\n",
       "Country             0\n",
       "dtype: int64"
      ]
     },
     "execution_count": 68,
     "metadata": {},
     "output_type": "execute_result"
    }
   ],
   "source": [
    "# 3. Check for missing values per column\n",
    "df.isnull().sum()"
   ]
  },
  {
   "cell_type": "code",
   "execution_count": 69,
   "id": "65c69083-33ad-4c29-abd1-8d3fb9678a4c",
   "metadata": {},
   "outputs": [
    {
     "data": {
      "text/html": [
       "<div>\n",
       "<style scoped>\n",
       "    .dataframe tbody tr th:only-of-type {\n",
       "        vertical-align: middle;\n",
       "    }\n",
       "\n",
       "    .dataframe tbody tr th {\n",
       "        vertical-align: top;\n",
       "    }\n",
       "\n",
       "    .dataframe thead th {\n",
       "        text-align: right;\n",
       "    }\n",
       "</style>\n",
       "<table border=\"1\" class=\"dataframe\">\n",
       "  <thead>\n",
       "    <tr style=\"text-align: right;\">\n",
       "      <th></th>\n",
       "      <th>Invoice</th>\n",
       "      <th>StockCode</th>\n",
       "      <th>Description</th>\n",
       "      <th>Quantity</th>\n",
       "      <th>InvoiceDate</th>\n",
       "      <th>Price</th>\n",
       "      <th>Customer ID</th>\n",
       "      <th>Country</th>\n",
       "    </tr>\n",
       "  </thead>\n",
       "  <tbody>\n",
       "    <tr>\n",
       "      <th>0</th>\n",
       "      <td>536365</td>\n",
       "      <td>85123A</td>\n",
       "      <td>WHITE HANGING HEART T-LIGHT HOLDER</td>\n",
       "      <td>6</td>\n",
       "      <td>2010-12-01 08:26:00</td>\n",
       "      <td>2.55</td>\n",
       "      <td>17850.0</td>\n",
       "      <td>United Kingdom</td>\n",
       "    </tr>\n",
       "    <tr>\n",
       "      <th>1</th>\n",
       "      <td>536365</td>\n",
       "      <td>71053</td>\n",
       "      <td>WHITE METAL LANTERN</td>\n",
       "      <td>6</td>\n",
       "      <td>2010-12-01 08:26:00</td>\n",
       "      <td>3.39</td>\n",
       "      <td>17850.0</td>\n",
       "      <td>United Kingdom</td>\n",
       "    </tr>\n",
       "    <tr>\n",
       "      <th>2</th>\n",
       "      <td>536365</td>\n",
       "      <td>84406B</td>\n",
       "      <td>CREAM CUPID HEARTS COAT HANGER</td>\n",
       "      <td>8</td>\n",
       "      <td>2010-12-01 08:26:00</td>\n",
       "      <td>2.75</td>\n",
       "      <td>17850.0</td>\n",
       "      <td>United Kingdom</td>\n",
       "    </tr>\n",
       "    <tr>\n",
       "      <th>3</th>\n",
       "      <td>536365</td>\n",
       "      <td>84029G</td>\n",
       "      <td>KNITTED UNION FLAG HOT WATER BOTTLE</td>\n",
       "      <td>6</td>\n",
       "      <td>2010-12-01 08:26:00</td>\n",
       "      <td>3.39</td>\n",
       "      <td>17850.0</td>\n",
       "      <td>United Kingdom</td>\n",
       "    </tr>\n",
       "    <tr>\n",
       "      <th>4</th>\n",
       "      <td>536365</td>\n",
       "      <td>84029E</td>\n",
       "      <td>RED WOOLLY HOTTIE WHITE HEART.</td>\n",
       "      <td>6</td>\n",
       "      <td>2010-12-01 08:26:00</td>\n",
       "      <td>3.39</td>\n",
       "      <td>17850.0</td>\n",
       "      <td>United Kingdom</td>\n",
       "    </tr>\n",
       "    <tr>\n",
       "      <th>...</th>\n",
       "      <td>...</td>\n",
       "      <td>...</td>\n",
       "      <td>...</td>\n",
       "      <td>...</td>\n",
       "      <td>...</td>\n",
       "      <td>...</td>\n",
       "      <td>...</td>\n",
       "      <td>...</td>\n",
       "    </tr>\n",
       "    <tr>\n",
       "      <th>541905</th>\n",
       "      <td>581587</td>\n",
       "      <td>22899</td>\n",
       "      <td>CHILDREN'S APRON DOLLY GIRL</td>\n",
       "      <td>6</td>\n",
       "      <td>2011-12-09 12:50:00</td>\n",
       "      <td>2.10</td>\n",
       "      <td>12680.0</td>\n",
       "      <td>France</td>\n",
       "    </tr>\n",
       "    <tr>\n",
       "      <th>541906</th>\n",
       "      <td>581587</td>\n",
       "      <td>23254</td>\n",
       "      <td>CHILDRENS CUTLERY DOLLY GIRL</td>\n",
       "      <td>4</td>\n",
       "      <td>2011-12-09 12:50:00</td>\n",
       "      <td>4.15</td>\n",
       "      <td>12680.0</td>\n",
       "      <td>France</td>\n",
       "    </tr>\n",
       "    <tr>\n",
       "      <th>541907</th>\n",
       "      <td>581587</td>\n",
       "      <td>23255</td>\n",
       "      <td>CHILDRENS CUTLERY CIRCUS PARADE</td>\n",
       "      <td>4</td>\n",
       "      <td>2011-12-09 12:50:00</td>\n",
       "      <td>4.15</td>\n",
       "      <td>12680.0</td>\n",
       "      <td>France</td>\n",
       "    </tr>\n",
       "    <tr>\n",
       "      <th>541908</th>\n",
       "      <td>581587</td>\n",
       "      <td>22138</td>\n",
       "      <td>BAKING SET 9 PIECE RETROSPOT</td>\n",
       "      <td>3</td>\n",
       "      <td>2011-12-09 12:50:00</td>\n",
       "      <td>4.95</td>\n",
       "      <td>12680.0</td>\n",
       "      <td>France</td>\n",
       "    </tr>\n",
       "    <tr>\n",
       "      <th>541909</th>\n",
       "      <td>581587</td>\n",
       "      <td>POST</td>\n",
       "      <td>POSTAGE</td>\n",
       "      <td>1</td>\n",
       "      <td>2011-12-09 12:50:00</td>\n",
       "      <td>18.00</td>\n",
       "      <td>12680.0</td>\n",
       "      <td>France</td>\n",
       "    </tr>\n",
       "  </tbody>\n",
       "</table>\n",
       "<p>406830 rows × 8 columns</p>\n",
       "</div>"
      ],
      "text/plain": [
       "       Invoice StockCode                          Description  Quantity  \\\n",
       "0       536365    85123A   WHITE HANGING HEART T-LIGHT HOLDER         6   \n",
       "1       536365     71053                  WHITE METAL LANTERN         6   \n",
       "2       536365    84406B       CREAM CUPID HEARTS COAT HANGER         8   \n",
       "3       536365    84029G  KNITTED UNION FLAG HOT WATER BOTTLE         6   \n",
       "4       536365    84029E       RED WOOLLY HOTTIE WHITE HEART.         6   \n",
       "...        ...       ...                                  ...       ...   \n",
       "541905  581587     22899         CHILDREN'S APRON DOLLY GIRL          6   \n",
       "541906  581587     23254        CHILDRENS CUTLERY DOLLY GIRL          4   \n",
       "541907  581587     23255      CHILDRENS CUTLERY CIRCUS PARADE         4   \n",
       "541908  581587     22138        BAKING SET 9 PIECE RETROSPOT          3   \n",
       "541909  581587      POST                              POSTAGE         1   \n",
       "\n",
       "               InvoiceDate  Price  Customer ID         Country  \n",
       "0      2010-12-01 08:26:00   2.55      17850.0  United Kingdom  \n",
       "1      2010-12-01 08:26:00   3.39      17850.0  United Kingdom  \n",
       "2      2010-12-01 08:26:00   2.75      17850.0  United Kingdom  \n",
       "3      2010-12-01 08:26:00   3.39      17850.0  United Kingdom  \n",
       "4      2010-12-01 08:26:00   3.39      17850.0  United Kingdom  \n",
       "...                    ...    ...          ...             ...  \n",
       "541905 2011-12-09 12:50:00   2.10      12680.0          France  \n",
       "541906 2011-12-09 12:50:00   4.15      12680.0          France  \n",
       "541907 2011-12-09 12:50:00   4.15      12680.0          France  \n",
       "541908 2011-12-09 12:50:00   4.95      12680.0          France  \n",
       "541909 2011-12-09 12:50:00  18.00      12680.0          France  \n",
       "\n",
       "[406830 rows x 8 columns]"
      ]
     },
     "execution_count": 69,
     "metadata": {},
     "output_type": "execute_result"
    }
   ],
   "source": [
    "# 4. Drop rows with missing Customer ID\n",
    "df0=df.dropna(subset=['Customer ID'])\n",
    "df0"
   ]
  },
  {
   "cell_type": "code",
   "execution_count": 70,
   "id": "09303a16-7da2-4991-b23a-e589aeb656ba",
   "metadata": {},
   "outputs": [
    {
     "data": {
      "text/plain": [
       "(401605, 8)"
      ]
     },
     "execution_count": 70,
     "metadata": {},
     "output_type": "execute_result"
    }
   ],
   "source": [
    "# 5. Drop duplicate records\n",
    "df1=df0.drop_duplicates()\n",
    "df1.shape"
   ]
  },
  {
   "cell_type": "code",
   "execution_count": 71,
   "id": "1d3b4486-9bac-4ef2-8eed-e8058fa6f970",
   "metadata": {},
   "outputs": [
    {
     "name": "stdout",
     "output_type": "stream",
     "text": [
      "<class 'pandas.core.frame.DataFrame'>\n",
      "Index: 401605 entries, 0 to 541909\n",
      "Data columns (total 8 columns):\n",
      " #   Column       Non-Null Count   Dtype         \n",
      "---  ------       --------------   -----         \n",
      " 0   Invoice      401605 non-null  object        \n",
      " 1   StockCode    401605 non-null  object        \n",
      " 2   Description  401605 non-null  object        \n",
      " 3   Quantity     401605 non-null  int64         \n",
      " 4   InvoiceDate  401605 non-null  datetime64[ns]\n",
      " 5   Price        401605 non-null  float64       \n",
      " 6   Customer ID  401605 non-null  float64       \n",
      " 7   Country      401605 non-null  object        \n",
      "dtypes: datetime64[ns](1), float64(2), int64(1), object(4)\n",
      "memory usage: 27.6+ MB\n"
     ]
    }
   ],
   "source": [
    "df1.info()"
   ]
  },
  {
   "cell_type": "code",
   "execution_count": 72,
   "id": "bc79c461-b4d2-4571-9332-0c3053ecbd3d",
   "metadata": {},
   "outputs": [],
   "source": [
    "df1.to_csv('cleaned_data.csv', index=False)"
   ]
  },
  {
   "cell_type": "markdown",
   "id": "a3458405-a391-4a51-810d-26da35aaed56",
   "metadata": {},
   "source": [
    "# 3: Data Exploration"
   ]
  },
  {
   "cell_type": "code",
   "execution_count": 74,
   "id": "4910648d-46e1-4977-9d82-bcd68b5ad597",
   "metadata": {},
   "outputs": [
    {
     "data": {
      "text/plain": [
       "3684"
      ]
     },
     "execution_count": 74,
     "metadata": {},
     "output_type": "execute_result"
    }
   ],
   "source": [
    "# 1. Show the total number of unique StockCode values.\n",
    "uniq_stoc = df1['StockCode'].nunique()\n",
    "uniq_stoc"
   ]
  },
  {
   "cell_type": "code",
   "execution_count": 75,
   "id": "39f3c83a-d382-4ced-a619-5c151d3dc3ea",
   "metadata": {},
   "outputs": [
    {
     "data": {
      "text/plain": [
       "'WHITE HANGING HEART T-LIGHT HOLDER'"
      ]
     },
     "execution_count": 75,
     "metadata": {},
     "output_type": "execute_result"
    }
   ],
   "source": [
    "#2.\tFind the most frequent Description.\n",
    "freq_dist = df1['Description'].value_counts().idxmax()\n",
    "freq_dist"
   ]
  },
  {
   "cell_type": "code",
   "execution_count": 87,
   "id": "acba039d-7e5a-4f63-8eca-462b85392881",
   "metadata": {},
   "outputs": [
    {
     "data": {
      "text/plain": [
       "4372"
      ]
     },
     "execution_count": 87,
     "metadata": {},
     "output_type": "execute_result"
    }
   ],
   "source": [
    "#3. Show the number of unique customers.\n",
    "uniq_cust=df['Customer ID'].nunique()\n",
    "uniq_cust"
   ]
  },
  {
   "cell_type": "code",
   "execution_count": 91,
   "id": "3f352c35-0775-4302-95d0-abb8aa67d547",
   "metadata": {},
   "outputs": [
    {
     "data": {
      "text/html": [
       "<div>\n",
       "<style scoped>\n",
       "    .dataframe tbody tr th:only-of-type {\n",
       "        vertical-align: middle;\n",
       "    }\n",
       "\n",
       "    .dataframe tbody tr th {\n",
       "        vertical-align: top;\n",
       "    }\n",
       "\n",
       "    .dataframe thead th {\n",
       "        text-align: right;\n",
       "    }\n",
       "</style>\n",
       "<table border=\"1\" class=\"dataframe\">\n",
       "  <thead>\n",
       "    <tr style=\"text-align: right;\">\n",
       "      <th></th>\n",
       "      <th>Invoice</th>\n",
       "      <th>StockCode</th>\n",
       "      <th>Description</th>\n",
       "      <th>Quantity</th>\n",
       "      <th>InvoiceDate</th>\n",
       "      <th>Price</th>\n",
       "      <th>Customer ID</th>\n",
       "      <th>Country</th>\n",
       "    </tr>\n",
       "  </thead>\n",
       "  <tbody>\n",
       "    <tr>\n",
       "      <th>141</th>\n",
       "      <td>C536379</td>\n",
       "      <td>D</td>\n",
       "      <td>Discount</td>\n",
       "      <td>-1</td>\n",
       "      <td>2010-12-01 09:41:00</td>\n",
       "      <td>27.50</td>\n",
       "      <td>14527.0</td>\n",
       "      <td>United Kingdom</td>\n",
       "    </tr>\n",
       "    <tr>\n",
       "      <th>154</th>\n",
       "      <td>C536383</td>\n",
       "      <td>35004C</td>\n",
       "      <td>SET OF 3 COLOURED  FLYING DUCKS</td>\n",
       "      <td>-1</td>\n",
       "      <td>2010-12-01 09:49:00</td>\n",
       "      <td>4.65</td>\n",
       "      <td>15311.0</td>\n",
       "      <td>United Kingdom</td>\n",
       "    </tr>\n",
       "    <tr>\n",
       "      <th>235</th>\n",
       "      <td>C536391</td>\n",
       "      <td>22556</td>\n",
       "      <td>PLASTERS IN TIN CIRCUS PARADE</td>\n",
       "      <td>-12</td>\n",
       "      <td>2010-12-01 10:24:00</td>\n",
       "      <td>1.65</td>\n",
       "      <td>17548.0</td>\n",
       "      <td>United Kingdom</td>\n",
       "    </tr>\n",
       "    <tr>\n",
       "      <th>236</th>\n",
       "      <td>C536391</td>\n",
       "      <td>21984</td>\n",
       "      <td>PACK OF 12 PINK PAISLEY TISSUES</td>\n",
       "      <td>-24</td>\n",
       "      <td>2010-12-01 10:24:00</td>\n",
       "      <td>0.29</td>\n",
       "      <td>17548.0</td>\n",
       "      <td>United Kingdom</td>\n",
       "    </tr>\n",
       "    <tr>\n",
       "      <th>237</th>\n",
       "      <td>C536391</td>\n",
       "      <td>21983</td>\n",
       "      <td>PACK OF 12 BLUE PAISLEY TISSUES</td>\n",
       "      <td>-24</td>\n",
       "      <td>2010-12-01 10:24:00</td>\n",
       "      <td>0.29</td>\n",
       "      <td>17548.0</td>\n",
       "      <td>United Kingdom</td>\n",
       "    </tr>\n",
       "    <tr>\n",
       "      <th>...</th>\n",
       "      <td>...</td>\n",
       "      <td>...</td>\n",
       "      <td>...</td>\n",
       "      <td>...</td>\n",
       "      <td>...</td>\n",
       "      <td>...</td>\n",
       "      <td>...</td>\n",
       "      <td>...</td>\n",
       "    </tr>\n",
       "    <tr>\n",
       "      <th>540449</th>\n",
       "      <td>C581490</td>\n",
       "      <td>23144</td>\n",
       "      <td>ZINC T-LIGHT HOLDER STARS SMALL</td>\n",
       "      <td>-11</td>\n",
       "      <td>2011-12-09 09:57:00</td>\n",
       "      <td>0.83</td>\n",
       "      <td>14397.0</td>\n",
       "      <td>United Kingdom</td>\n",
       "    </tr>\n",
       "    <tr>\n",
       "      <th>541541</th>\n",
       "      <td>C581499</td>\n",
       "      <td>M</td>\n",
       "      <td>Manual</td>\n",
       "      <td>-1</td>\n",
       "      <td>2011-12-09 10:28:00</td>\n",
       "      <td>224.69</td>\n",
       "      <td>15498.0</td>\n",
       "      <td>United Kingdom</td>\n",
       "    </tr>\n",
       "    <tr>\n",
       "      <th>541715</th>\n",
       "      <td>C581568</td>\n",
       "      <td>21258</td>\n",
       "      <td>VICTORIAN SEWING BOX LARGE</td>\n",
       "      <td>-5</td>\n",
       "      <td>2011-12-09 11:57:00</td>\n",
       "      <td>10.95</td>\n",
       "      <td>15311.0</td>\n",
       "      <td>United Kingdom</td>\n",
       "    </tr>\n",
       "    <tr>\n",
       "      <th>541716</th>\n",
       "      <td>C581569</td>\n",
       "      <td>84978</td>\n",
       "      <td>HANGING HEART JAR T-LIGHT HOLDER</td>\n",
       "      <td>-1</td>\n",
       "      <td>2011-12-09 11:58:00</td>\n",
       "      <td>1.25</td>\n",
       "      <td>17315.0</td>\n",
       "      <td>United Kingdom</td>\n",
       "    </tr>\n",
       "    <tr>\n",
       "      <th>541717</th>\n",
       "      <td>C581569</td>\n",
       "      <td>20979</td>\n",
       "      <td>36 PENCILS TUBE RED RETROSPOT</td>\n",
       "      <td>-5</td>\n",
       "      <td>2011-12-09 11:58:00</td>\n",
       "      <td>1.25</td>\n",
       "      <td>17315.0</td>\n",
       "      <td>United Kingdom</td>\n",
       "    </tr>\n",
       "  </tbody>\n",
       "</table>\n",
       "<p>9288 rows × 8 columns</p>\n",
       "</div>"
      ],
      "text/plain": [
       "        Invoice StockCode                       Description  Quantity  \\\n",
       "141     C536379         D                          Discount        -1   \n",
       "154     C536383    35004C   SET OF 3 COLOURED  FLYING DUCKS        -1   \n",
       "235     C536391     22556    PLASTERS IN TIN CIRCUS PARADE        -12   \n",
       "236     C536391     21984  PACK OF 12 PINK PAISLEY TISSUES        -24   \n",
       "237     C536391     21983  PACK OF 12 BLUE PAISLEY TISSUES        -24   \n",
       "...         ...       ...                               ...       ...   \n",
       "540449  C581490     23144   ZINC T-LIGHT HOLDER STARS SMALL       -11   \n",
       "541541  C581499         M                            Manual        -1   \n",
       "541715  C581568     21258        VICTORIAN SEWING BOX LARGE        -5   \n",
       "541716  C581569     84978  HANGING HEART JAR T-LIGHT HOLDER        -1   \n",
       "541717  C581569     20979     36 PENCILS TUBE RED RETROSPOT        -5   \n",
       "\n",
       "               InvoiceDate   Price  Customer ID         Country  \n",
       "141    2010-12-01 09:41:00   27.50      14527.0  United Kingdom  \n",
       "154    2010-12-01 09:49:00    4.65      15311.0  United Kingdom  \n",
       "235    2010-12-01 10:24:00    1.65      17548.0  United Kingdom  \n",
       "236    2010-12-01 10:24:00    0.29      17548.0  United Kingdom  \n",
       "237    2010-12-01 10:24:00    0.29      17548.0  United Kingdom  \n",
       "...                    ...     ...          ...             ...  \n",
       "540449 2011-12-09 09:57:00    0.83      14397.0  United Kingdom  \n",
       "541541 2011-12-09 10:28:00  224.69      15498.0  United Kingdom  \n",
       "541715 2011-12-09 11:57:00   10.95      15311.0  United Kingdom  \n",
       "541716 2011-12-09 11:58:00    1.25      17315.0  United Kingdom  \n",
       "541717 2011-12-09 11:58:00    1.25      17315.0  United Kingdom  \n",
       "\n",
       "[9288 rows x 8 columns]"
      ]
     },
     "execution_count": 91,
     "metadata": {},
     "output_type": "execute_result"
    }
   ],
   "source": [
    "#4 Count how many orders were cancelled (InvoiceNo starts with 'C').\n",
    "can_ord=df[df['Invoice'].astype(str).str.startswith('C')]\n",
    "can_ord"
   ]
  },
  {
   "cell_type": "code",
   "execution_count": 93,
   "id": "9a87bb2c-56fa-48a3-9e7b-1c54b01180e1",
   "metadata": {},
   "outputs": [
    {
     "data": {
      "text/plain": [
       "Country\n",
       "United Kingdom          495478\n",
       "Germany                   9495\n",
       "France                    8558\n",
       "EIRE                      8196\n",
       "Spain                     2533\n",
       "Netherlands               2371\n",
       "Belgium                   2069\n",
       "Switzerland               2002\n",
       "Portugal                  1519\n",
       "Australia                 1259\n",
       "Norway                    1086\n",
       "Italy                      803\n",
       "Channel Islands            758\n",
       "Finland                    695\n",
       "Cyprus                     622\n",
       "Sweden                     462\n",
       "Unspecified                446\n",
       "Austria                    401\n",
       "Denmark                    389\n",
       "Japan                      358\n",
       "Poland                     341\n",
       "Israel                     297\n",
       "USA                        291\n",
       "Hong Kong                  288\n",
       "Singapore                  229\n",
       "Iceland                    182\n",
       "Canada                     151\n",
       "Greece                     146\n",
       "Malta                      127\n",
       "United Arab Emirates        68\n",
       "European Community          61\n",
       "RSA                         58\n",
       "Lebanon                     45\n",
       "Lithuania                   35\n",
       "Brazil                      32\n",
       "Czech Republic              30\n",
       "Bahrain                     19\n",
       "Saudi Arabia                10\n",
       "Name: count, dtype: int64"
      ]
     },
     "execution_count": 93,
     "metadata": {},
     "output_type": "execute_result"
    }
   ],
   "source": [
    "#5 display the number of transactions per country\n",
    "trans_p_country=df['Country'].value_counts()\n",
    "trans_p_country"
   ]
  },
  {
   "cell_type": "code",
   "execution_count": 97,
   "id": "e6b0ecca-aa6b-4b06-a013-b914c5383272",
   "metadata": {},
   "outputs": [
    {
     "data": {
      "text/plain": [
       "Customer ID\n",
       "12346.0     2\n",
       "12347.0     7\n",
       "12348.0     4\n",
       "12349.0     1\n",
       "12350.0     1\n",
       "           ..\n",
       "18280.0     1\n",
       "18281.0     1\n",
       "18282.0     3\n",
       "18283.0    16\n",
       "18287.0     3\n",
       "Name: Invoice, Length: 4372, dtype: int64"
      ]
     },
     "execution_count": 97,
     "metadata": {},
     "output_type": "execute_result"
    }
   ],
   "source": [
    "#6. Get the number of unique InvoiceNo values per customer.\n",
    "uniq_inv=df.groupby('Customer ID')['Invoice'].nunique()\n",
    "uniq_inv"
   ]
  },
  {
   "cell_type": "code",
   "execution_count": 105,
   "id": "e44b286f-ad31-4f85-8db5-72c55e591768",
   "metadata": {},
   "outputs": [
    {
     "data": {
      "text/html": [
       "<div>\n",
       "<style scoped>\n",
       "    .dataframe tbody tr th:only-of-type {\n",
       "        vertical-align: middle;\n",
       "    }\n",
       "\n",
       "    .dataframe tbody tr th {\n",
       "        vertical-align: top;\n",
       "    }\n",
       "\n",
       "    .dataframe thead th {\n",
       "        text-align: right;\n",
       "    }\n",
       "</style>\n",
       "<table border=\"1\" class=\"dataframe\">\n",
       "  <thead>\n",
       "    <tr style=\"text-align: right;\">\n",
       "      <th></th>\n",
       "      <th>Invoice</th>\n",
       "      <th>StockCode</th>\n",
       "      <th>Description</th>\n",
       "      <th>Quantity</th>\n",
       "      <th>InvoiceDate</th>\n",
       "      <th>Price</th>\n",
       "      <th>Customer ID</th>\n",
       "      <th>Country</th>\n",
       "    </tr>\n",
       "  </thead>\n",
       "  <tbody>\n",
       "    <tr>\n",
       "      <th>0</th>\n",
       "      <td>536365</td>\n",
       "      <td>85123A</td>\n",
       "      <td>WHITE HANGING HEART T-LIGHT HOLDER</td>\n",
       "      <td>6</td>\n",
       "      <td>2010-12-01 08:26:00</td>\n",
       "      <td>2.55</td>\n",
       "      <td>17850.0</td>\n",
       "      <td>United Kingdom</td>\n",
       "    </tr>\n",
       "    <tr>\n",
       "      <th>1</th>\n",
       "      <td>536365</td>\n",
       "      <td>71053</td>\n",
       "      <td>WHITE METAL LANTERN</td>\n",
       "      <td>6</td>\n",
       "      <td>2010-12-01 08:26:00</td>\n",
       "      <td>3.39</td>\n",
       "      <td>17850.0</td>\n",
       "      <td>United Kingdom</td>\n",
       "    </tr>\n",
       "    <tr>\n",
       "      <th>2</th>\n",
       "      <td>536365</td>\n",
       "      <td>84406B</td>\n",
       "      <td>CREAM CUPID HEARTS COAT HANGER</td>\n",
       "      <td>8</td>\n",
       "      <td>2010-12-01 08:26:00</td>\n",
       "      <td>2.75</td>\n",
       "      <td>17850.0</td>\n",
       "      <td>United Kingdom</td>\n",
       "    </tr>\n",
       "    <tr>\n",
       "      <th>3</th>\n",
       "      <td>536365</td>\n",
       "      <td>84029G</td>\n",
       "      <td>KNITTED UNION FLAG HOT WATER BOTTLE</td>\n",
       "      <td>6</td>\n",
       "      <td>2010-12-01 08:26:00</td>\n",
       "      <td>3.39</td>\n",
       "      <td>17850.0</td>\n",
       "      <td>United Kingdom</td>\n",
       "    </tr>\n",
       "    <tr>\n",
       "      <th>4</th>\n",
       "      <td>536365</td>\n",
       "      <td>84029E</td>\n",
       "      <td>RED WOOLLY HOTTIE WHITE HEART.</td>\n",
       "      <td>6</td>\n",
       "      <td>2010-12-01 08:26:00</td>\n",
       "      <td>3.39</td>\n",
       "      <td>17850.0</td>\n",
       "      <td>United Kingdom</td>\n",
       "    </tr>\n",
       "    <tr>\n",
       "      <th>...</th>\n",
       "      <td>...</td>\n",
       "      <td>...</td>\n",
       "      <td>...</td>\n",
       "      <td>...</td>\n",
       "      <td>...</td>\n",
       "      <td>...</td>\n",
       "      <td>...</td>\n",
       "      <td>...</td>\n",
       "    </tr>\n",
       "    <tr>\n",
       "      <th>3103</th>\n",
       "      <td>536597</td>\n",
       "      <td>35271S</td>\n",
       "      <td>GOLD PRINT PAPER BAG</td>\n",
       "      <td>14</td>\n",
       "      <td>2010-12-01 17:35:00</td>\n",
       "      <td>0.19</td>\n",
       "      <td>18011.0</td>\n",
       "      <td>United Kingdom</td>\n",
       "    </tr>\n",
       "    <tr>\n",
       "      <th>3104</th>\n",
       "      <td>536597</td>\n",
       "      <td>21380</td>\n",
       "      <td>WOODEN HAPPY BIRTHDAY GARLAND</td>\n",
       "      <td>1</td>\n",
       "      <td>2010-12-01 17:35:00</td>\n",
       "      <td>2.95</td>\n",
       "      <td>18011.0</td>\n",
       "      <td>United Kingdom</td>\n",
       "    </tr>\n",
       "    <tr>\n",
       "      <th>3105</th>\n",
       "      <td>536597</td>\n",
       "      <td>22909</td>\n",
       "      <td>SET OF 20 VINTAGE CHRISTMAS NAPKINS</td>\n",
       "      <td>1</td>\n",
       "      <td>2010-12-01 17:35:00</td>\n",
       "      <td>0.85</td>\n",
       "      <td>18011.0</td>\n",
       "      <td>United Kingdom</td>\n",
       "    </tr>\n",
       "    <tr>\n",
       "      <th>3106</th>\n",
       "      <td>536597</td>\n",
       "      <td>21221</td>\n",
       "      <td>SET/4 BADGES CUTE CREATURES</td>\n",
       "      <td>5</td>\n",
       "      <td>2010-12-01 17:35:00</td>\n",
       "      <td>1.25</td>\n",
       "      <td>18011.0</td>\n",
       "      <td>United Kingdom</td>\n",
       "    </tr>\n",
       "    <tr>\n",
       "      <th>3107</th>\n",
       "      <td>536597</td>\n",
       "      <td>20755</td>\n",
       "      <td>BLUE PAISLEY POCKET BOOK</td>\n",
       "      <td>6</td>\n",
       "      <td>2010-12-01 17:35:00</td>\n",
       "      <td>0.85</td>\n",
       "      <td>18011.0</td>\n",
       "      <td>United Kingdom</td>\n",
       "    </tr>\n",
       "  </tbody>\n",
       "</table>\n",
       "<p>3108 rows × 8 columns</p>\n",
       "</div>"
      ],
      "text/plain": [
       "     Invoice StockCode                          Description  Quantity  \\\n",
       "0     536365    85123A   WHITE HANGING HEART T-LIGHT HOLDER         6   \n",
       "1     536365     71053                  WHITE METAL LANTERN         6   \n",
       "2     536365    84406B       CREAM CUPID HEARTS COAT HANGER         8   \n",
       "3     536365    84029G  KNITTED UNION FLAG HOT WATER BOTTLE         6   \n",
       "4     536365    84029E       RED WOOLLY HOTTIE WHITE HEART.         6   \n",
       "...      ...       ...                                  ...       ...   \n",
       "3103  536597    35271S                 GOLD PRINT PAPER BAG        14   \n",
       "3104  536597     21380        WOODEN HAPPY BIRTHDAY GARLAND         1   \n",
       "3105  536597     22909  SET OF 20 VINTAGE CHRISTMAS NAPKINS         1   \n",
       "3106  536597     21221          SET/4 BADGES CUTE CREATURES         5   \n",
       "3107  536597     20755             BLUE PAISLEY POCKET BOOK         6   \n",
       "\n",
       "             InvoiceDate  Price  Customer ID         Country  \n",
       "0    2010-12-01 08:26:00   2.55      17850.0  United Kingdom  \n",
       "1    2010-12-01 08:26:00   3.39      17850.0  United Kingdom  \n",
       "2    2010-12-01 08:26:00   2.75      17850.0  United Kingdom  \n",
       "3    2010-12-01 08:26:00   3.39      17850.0  United Kingdom  \n",
       "4    2010-12-01 08:26:00   3.39      17850.0  United Kingdom  \n",
       "...                  ...    ...          ...             ...  \n",
       "3103 2010-12-01 17:35:00   0.19      18011.0  United Kingdom  \n",
       "3104 2010-12-01 17:35:00   2.95      18011.0  United Kingdom  \n",
       "3105 2010-12-01 17:35:00   0.85      18011.0  United Kingdom  \n",
       "3106 2010-12-01 17:35:00   1.25      18011.0  United Kingdom  \n",
       "3107 2010-12-01 17:35:00   0.85      18011.0  United Kingdom  \n",
       "\n",
       "[3108 rows x 8 columns]"
      ]
     },
     "execution_count": 105,
     "metadata": {},
     "output_type": "execute_result"
    }
   ],
   "source": [
    "# 7. show All transactions from a specific date (e.g., '2010-12-01')\n",
    "df['InvoiceDate']=pd.to_datetime(df['InvoiceDate'])\n",
    "trans_date = df[df['InvoiceDate'].dt.date==pd.to_datetime('2010-12-01').date()]\n",
    "trans_date"
   ]
  },
  {
   "cell_type": "code",
   "execution_count": 109,
   "id": "c3fd5dff-bd63-4924-b4be-9b44549d2c10",
   "metadata": {},
   "outputs": [
    {
     "data": {
      "text/plain": [
       "('United Kingdom', '85123A')"
      ]
     },
     "execution_count": 109,
     "metadata": {},
     "output_type": "execute_result"
    }
   ],
   "source": [
    "#8. find the most common combination of Country and StockCode\n",
    "com_combo=df.groupby(['Country','StockCode']).size().idxmax()       #most_common_country + stock_code\n",
    "com_combo"
   ]
  },
  {
   "cell_type": "markdown",
   "id": "395fca8e-89e4-427b-9241-40c01419ad5c",
   "metadata": {},
   "source": [
    "#  Part 4: Transformations and Grouping"
   ]
  },
  {
   "cell_type": "code",
   "execution_count": 112,
   "id": "8ae34f39-0ad2-4a44-b783-28a4c62818ea",
   "metadata": {},
   "outputs": [
    {
     "data": {
      "text/plain": [
       "0         15.30\n",
       "1         20.34\n",
       "2         22.00\n",
       "3         20.34\n",
       "4         20.34\n",
       "          ...  \n",
       "541905    12.60\n",
       "541906    16.60\n",
       "541907    16.60\n",
       "541908    14.85\n",
       "541909    18.00\n",
       "Name: TotalPrice, Length: 541910, dtype: float64"
      ]
     },
     "execution_count": 112,
     "metadata": {},
     "output_type": "execute_result"
    }
   ],
   "source": [
    "#1.\tCreate a column TotalPrice = Quantity × UnitPrice\n",
    "df['TotalPrice'] = df['Quantity']*df['Price']\n",
    "df['TotalPrice']"
   ]
  },
  {
   "cell_type": "code",
   "execution_count": 189,
   "id": "5e9985cb-bee8-44fd-a35b-33accecc8645",
   "metadata": {},
   "outputs": [
    {
     "data": {
      "text/plain": [
       "Country\n",
       "United Kingdom    8187806.364\n",
       "Netherlands        284661.540\n",
       "EIRE               263276.820\n",
       "Germany            221698.210\n",
       "France             197421.900\n",
       "Name: TotalPrice, dtype: float64"
      ]
     },
     "execution_count": 189,
     "metadata": {},
     "output_type": "execute_result"
    }
   ],
   "source": [
    "#2 use groupby to calculate total revenue per country\n",
    "rev_per_country=df.groupby('Country')['TotalPrice'].sum().sort_values(ascending=False)\n",
    "rev_per_country.head()"
   ]
  },
  {
   "cell_type": "code",
   "execution_count": 185,
   "id": "30cd3b90-8da3-44b6-a987-cd8b3a00966c",
   "metadata": {},
   "outputs": [
    {
     "data": {
      "text/plain": [
       "StockCode\n",
       "22197     56450\n",
       "84077     53847\n",
       "85099B    47363\n",
       "85123A    38830\n",
       "84879     36221\n",
       "Name: Quantity, dtype: int64"
      ]
     },
     "execution_count": 185,
     "metadata": {},
     "output_type": "execute_result"
    }
   ],
   "source": [
    "#3.\tUse groupby to calculate:\n",
    "# a. Total quantity sold per product\n",
    "quantity_per_prod=df.groupby('StockCode')['Quantity'].sum().sort_values(ascending=False)\n",
    "quantity_per_prod.head()"
   ]
  },
  {
   "cell_type": "code",
   "execution_count": 191,
   "id": "50e29501-456e-40de-add3-f5a32a98c05d",
   "metadata": {},
   "outputs": [
    {
     "data": {
      "text/plain": [
       "StockCode\n",
       "AMAZONFEE       7324.784706\n",
       "CRUK             495.839375\n",
       "M                375.566392\n",
       "DOT              290.495859\n",
       "BANK CHARGES     202.855162\n",
       "Name: Price, dtype: float64"
      ]
     },
     "execution_count": 191,
     "metadata": {},
     "output_type": "execute_result"
    }
   ],
   "source": [
    "# 3.b. Average unit price per product\n",
    "avg_pric_per_prod = df.groupby('StockCode')['Price'].mean().sort_values(ascending=False)\n",
    "avg_pric_per_prod.head()"
   ]
  },
  {
   "cell_type": "code",
   "execution_count": null,
   "id": "2c796e4c-0566-4c8c-afae-86a8813ca76b",
   "metadata": {},
   "outputs": [],
   "source": []
  },
  {
   "cell_type": "code",
   "execution_count": null,
   "id": "9a5ca7ab-8728-4c15-98d5-0b6b86226087",
   "metadata": {},
   "outputs": [],
   "source": []
  },
  {
   "cell_type": "code",
   "execution_count": 201,
   "id": "08715840-99a6-45a8-8e83-4ee467306926",
   "metadata": {},
   "outputs": [
    {
     "data": {
      "text/html": [
       "<div>\n",
       "<style scoped>\n",
       "    .dataframe tbody tr th:only-of-type {\n",
       "        vertical-align: middle;\n",
       "    }\n",
       "\n",
       "    .dataframe tbody tr th {\n",
       "        vertical-align: top;\n",
       "    }\n",
       "\n",
       "    .dataframe thead th {\n",
       "        text-align: right;\n",
       "    }\n",
       "</style>\n",
       "<table border=\"1\" class=\"dataframe\">\n",
       "  <thead>\n",
       "    <tr style=\"text-align: right;\">\n",
       "      <th></th>\n",
       "      <th>TotalOrders</th>\n",
       "      <th>TotalQuantity</th>\n",
       "      <th>TotalRevenue</th>\n",
       "    </tr>\n",
       "    <tr>\n",
       "      <th>Customer ID</th>\n",
       "      <th></th>\n",
       "      <th></th>\n",
       "      <th></th>\n",
       "    </tr>\n",
       "  </thead>\n",
       "  <tbody>\n",
       "    <tr>\n",
       "      <th>14646.0</th>\n",
       "      <td>77</td>\n",
       "      <td>196719</td>\n",
       "      <td>279489.02</td>\n",
       "    </tr>\n",
       "    <tr>\n",
       "      <th>18102.0</th>\n",
       "      <td>62</td>\n",
       "      <td>64122</td>\n",
       "      <td>256438.49</td>\n",
       "    </tr>\n",
       "    <tr>\n",
       "      <th>17450.0</th>\n",
       "      <td>55</td>\n",
       "      <td>69029</td>\n",
       "      <td>187482.17</td>\n",
       "    </tr>\n",
       "    <tr>\n",
       "      <th>14911.0</th>\n",
       "      <td>248</td>\n",
       "      <td>77180</td>\n",
       "      <td>132572.62</td>\n",
       "    </tr>\n",
       "    <tr>\n",
       "      <th>12415.0</th>\n",
       "      <td>26</td>\n",
       "      <td>77242</td>\n",
       "      <td>123725.45</td>\n",
       "    </tr>\n",
       "  </tbody>\n",
       "</table>\n",
       "</div>"
      ],
      "text/plain": [
       "             TotalOrders  TotalQuantity  TotalRevenue\n",
       "Customer ID                                          \n",
       "14646.0               77         196719     279489.02\n",
       "18102.0               62          64122     256438.49\n",
       "17450.0               55          69029     187482.17\n",
       "14911.0              248          77180     132572.62\n",
       "12415.0               26          77242     123725.45"
      ]
     },
     "execution_count": 201,
     "metadata": {},
     "output_type": "execute_result"
    }
   ],
   "source": [
    "#4.\tCreate a summary per customer:\n",
    "# a\tTotal orders\n",
    "# b\tTotal quantity\n",
    "# c Total Revenue\n",
    "\n",
    "summary_per_cust = df.groupby('Customer ID').agg(\n",
    "    TotalOrders=('Invoice','nunique'),\n",
    "    TotalQuantity=('Quantity','sum'),\n",
    "    TotalRevenue=('TotalPrice','sum')\n",
    ").sort_values(by='TotalRevenue',ascending=False)\n",
    "\n",
    "summary_per_cust.head()"
   ]
  },
  {
   "cell_type": "markdown",
   "id": "f54ab421-875e-4edb-8d08-c07511ce4170",
   "metadata": {},
   "source": [
    "# Part 5: Filtering and Queries"
   ]
  },
  {
   "cell_type": "code",
   "execution_count": 204,
   "id": "4d9d294f-75e1-4b05-9fdb-cb92043cc0e4",
   "metadata": {},
   "outputs": [
    {
     "data": {
      "text/html": [
       "<div>\n",
       "<style scoped>\n",
       "    .dataframe tbody tr th:only-of-type {\n",
       "        vertical-align: middle;\n",
       "    }\n",
       "\n",
       "    .dataframe tbody tr th {\n",
       "        vertical-align: top;\n",
       "    }\n",
       "\n",
       "    .dataframe thead th {\n",
       "        text-align: right;\n",
       "    }\n",
       "</style>\n",
       "<table border=\"1\" class=\"dataframe\">\n",
       "  <thead>\n",
       "    <tr style=\"text-align: right;\">\n",
       "      <th></th>\n",
       "      <th>Invoice</th>\n",
       "      <th>StockCode</th>\n",
       "      <th>Description</th>\n",
       "      <th>Quantity</th>\n",
       "      <th>InvoiceDate</th>\n",
       "      <th>Price</th>\n",
       "      <th>Customer ID</th>\n",
       "      <th>Country</th>\n",
       "      <th>TotalPrice</th>\n",
       "    </tr>\n",
       "  </thead>\n",
       "  <tbody>\n",
       "    <tr>\n",
       "      <th>46</th>\n",
       "      <td>536371</td>\n",
       "      <td>22086</td>\n",
       "      <td>PAPER CHAIN KIT 50'S CHRISTMAS</td>\n",
       "      <td>80</td>\n",
       "      <td>2010-12-01 09:00:00</td>\n",
       "      <td>2.55</td>\n",
       "      <td>13748.0</td>\n",
       "      <td>United Kingdom</td>\n",
       "      <td>204.0</td>\n",
       "    </tr>\n",
       "    <tr>\n",
       "      <th>65</th>\n",
       "      <td>536374</td>\n",
       "      <td>21258</td>\n",
       "      <td>VICTORIAN SEWING BOX LARGE</td>\n",
       "      <td>32</td>\n",
       "      <td>2010-12-01 09:09:00</td>\n",
       "      <td>10.95</td>\n",
       "      <td>15100.0</td>\n",
       "      <td>United Kingdom</td>\n",
       "      <td>350.4</td>\n",
       "    </tr>\n",
       "    <tr>\n",
       "      <th>82</th>\n",
       "      <td>536376</td>\n",
       "      <td>22114</td>\n",
       "      <td>HOT WATER BOTTLE TEA AND SYMPATHY</td>\n",
       "      <td>48</td>\n",
       "      <td>2010-12-01 09:32:00</td>\n",
       "      <td>3.45</td>\n",
       "      <td>15291.0</td>\n",
       "      <td>United Kingdom</td>\n",
       "      <td>165.6</td>\n",
       "    </tr>\n",
       "    <tr>\n",
       "      <th>83</th>\n",
       "      <td>536376</td>\n",
       "      <td>21733</td>\n",
       "      <td>RED HANGING HEART T-LIGHT HOLDER</td>\n",
       "      <td>64</td>\n",
       "      <td>2010-12-01 09:32:00</td>\n",
       "      <td>2.55</td>\n",
       "      <td>15291.0</td>\n",
       "      <td>United Kingdom</td>\n",
       "      <td>163.2</td>\n",
       "    </tr>\n",
       "    <tr>\n",
       "      <th>90</th>\n",
       "      <td>536378</td>\n",
       "      <td>84997B</td>\n",
       "      <td>RED 3 PIECE RETROSPOT CUTLERY SET</td>\n",
       "      <td>12</td>\n",
       "      <td>2010-12-01 09:37:00</td>\n",
       "      <td>3.75</td>\n",
       "      <td>14688.0</td>\n",
       "      <td>United Kingdom</td>\n",
       "      <td>45.0</td>\n",
       "    </tr>\n",
       "  </tbody>\n",
       "</table>\n",
       "</div>"
      ],
      "text/plain": [
       "   Invoice StockCode                        Description  Quantity  \\\n",
       "46  536371     22086    PAPER CHAIN KIT 50'S CHRISTMAS         80   \n",
       "65  536374     21258         VICTORIAN SEWING BOX LARGE        32   \n",
       "82  536376     22114  HOT WATER BOTTLE TEA AND SYMPATHY        48   \n",
       "83  536376     21733   RED HANGING HEART T-LIGHT HOLDER        64   \n",
       "90  536378    84997B  RED 3 PIECE RETROSPOT CUTLERY SET        12   \n",
       "\n",
       "           InvoiceDate  Price  Customer ID         Country  TotalPrice  \n",
       "46 2010-12-01 09:00:00   2.55      13748.0  United Kingdom       204.0  \n",
       "65 2010-12-01 09:09:00  10.95      15100.0  United Kingdom       350.4  \n",
       "82 2010-12-01 09:32:00   3.45      15291.0  United Kingdom       165.6  \n",
       "83 2010-12-01 09:32:00   2.55      15291.0  United Kingdom       163.2  \n",
       "90 2010-12-01 09:37:00   3.75      14688.0  United Kingdom        45.0  "
      ]
     },
     "execution_count": 204,
     "metadata": {},
     "output_type": "execute_result"
    }
   ],
   "source": [
    "#1.\tFilter transactions from the United Kingdom where Quantity > 10 and UnitPrice > 2.\n",
    "uk_filtered = df[(df['Country']=='United Kingdom')&(df['Quantity']>10) & (df['Price']>2)]\n",
    "uk_filtered.head()"
   ]
  },
  {
   "cell_type": "code",
   "execution_count": 206,
   "id": "dc060d6b-fa22-4d09-aedb-bfc23a943c9b",
   "metadata": {},
   "outputs": [
    {
     "data": {
      "text/plain": [
       "Customer ID\n",
       "12347.0    2458\n",
       "12348.0    2341\n",
       "12356.0    1591\n",
       "12357.0    2708\n",
       "12359.0    1612\n",
       "           ... \n",
       "18260.0    1469\n",
       "18263.0    1467\n",
       "18272.0    2044\n",
       "18283.0    1397\n",
       "18287.0    1586\n",
       "Name: Quantity, Length: 1059, dtype: int64"
      ]
     },
     "execution_count": 206,
     "metadata": {},
     "output_type": "execute_result"
    }
   ],
   "source": [
    "#2.\tFind customers who purchased more than 1000 items in total.\n",
    "heavy_buyers=df.groupby('Customer ID')['Quantity'].sum()\n",
    "heavy_buyers=heavy_buyers[heavy_buyers>1000]\n",
    "heavy_buyers"
   ]
  },
  {
   "cell_type": "code",
   "execution_count": 214,
   "id": "70351796-040b-4b0d-bfbf-add2db0b0698",
   "metadata": {},
   "outputs": [
    {
     "data": {
      "text/plain": [
       "Invoice\n",
       "536544      2987.72\n",
       "536592      3612.35\n",
       "536865      1435.22\n",
       "536876      3635.97\n",
       "537237      3713.99\n",
       "             ...   \n",
       "C576338     1038.75\n",
       "C577348     1149.98\n",
       "C580604    11586.50\n",
       "C580605    17836.46\n",
       "C580726     1100.44\n",
       "Name: Price, Length: 375, dtype: float64"
      ]
     },
     "execution_count": 214,
     "metadata": {},
     "output_type": "execute_result"
    }
   ],
   "source": [
    "#3.\tList all InvoiceNo values where total order value > 1000 GBP.\n",
    "order_tot=df.groupby('Invoice')['Price'].sum()\n",
    "high_value_orders = order_tot[order_tot>1000]\n",
    "high_value_orders\n"
   ]
  },
  {
   "cell_type": "code",
   "execution_count": 216,
   "id": "4906d835-e397-4c8d-8fec-0e352f02d399",
   "metadata": {},
   "outputs": [
    {
     "data": {
      "text/plain": [
       "Customer ID\n",
       "14096.0    41376.33\n",
       "15098.0    40278.90\n",
       "14911.0    31060.66\n",
       "12744.0    25108.89\n",
       "16029.0    24111.14\n",
       "Name: Price, dtype: float64"
      ]
     },
     "execution_count": 216,
     "metadata": {},
     "output_type": "execute_result"
    }
   ],
   "source": [
    "#4. Identify top 5 customers by total revenue.\n",
    "top_cust=df.groupby('Customer ID')['Price'].sum().sort_values(ascending=False).head()\n",
    "top_cust"
   ]
  },
  {
   "cell_type": "code",
   "execution_count": 218,
   "id": "065e39e2-ddbf-40ac-8336-d7a72221483e",
   "metadata": {},
   "outputs": [
    {
     "data": {
      "text/plain": [
       "Invoice\n",
       "536365     7\n",
       "536367    12\n",
       "536368     4\n",
       "536370    20\n",
       "536373    16\n",
       "dtype: int64"
      ]
     },
     "execution_count": 218,
     "metadata": {},
     "output_type": "execute_result"
    }
   ],
   "source": [
    "#5. Find all invoices that contain more than 3 line items.\n",
    "invoice_line_counts=df.groupby('Invoice').size()\n",
    "invoice_with_plus =invoice_line_counts[invoice_line_counts>3]\n",
    "invoice_with_plus.head()"
   ]
  },
  {
   "cell_type": "code",
   "execution_count": 220,
   "id": "d715183b-ff24-46ac-9e57-3291db172a42",
   "metadata": {},
   "outputs": [
    {
     "data": {
      "text/plain": [
       "Customer ID\n",
       "12370.0    2\n",
       "12394.0    2\n",
       "12417.0    2\n",
       "12422.0    2\n",
       "12429.0    2\n",
       "12431.0    2\n",
       "12455.0    2\n",
       "12457.0    2\n",
       "Name: Country, dtype: int64"
      ]
     },
     "execution_count": 220,
     "metadata": {},
     "output_type": "execute_result"
    }
   ],
   "source": [
    "#6. Identify customers who placed orders from multiple countries.\n",
    "countries_per_customer=df.groupby('Customer ID')['Country'].nunique()\n",
    "multi_country_customer=countries_per_customer[countries_per_customer>1]\n",
    "multi_country_customer"
   ]
  },
  {
   "cell_type": "code",
   "execution_count": 222,
   "id": "b0cd4776-20aa-4960-9cc1-3e16e1e0fd0a",
   "metadata": {},
   "outputs": [
    {
     "data": {
      "text/plain": [
       "StockCode\n",
       "10002      0.00\n",
       "10133     -4.20\n",
       "10134      0.00\n",
       "10135     -1.25\n",
       "11001   -237.05\n",
       "Name: TotalPrice, dtype: float64"
      ]
     },
     "execution_count": 222,
     "metadata": {},
     "output_type": "execute_result"
    }
   ],
   "source": [
    "#7. Find products with negative Quantity (returns) and their total loss.\n",
    "returns=df[df['Quantity']<0]\n",
    "return_loss=returns.groupby('StockCode')['TotalPrice'].sum()\n",
    "return_loss.head()"
   ]
  },
  {
   "cell_type": "code",
   "execution_count": 226,
   "id": "b00f665c-8e0d-4ba5-9e39-4f08f1d9975c",
   "metadata": {},
   "outputs": [
    {
     "data": {
      "text/plain": [
       "StockCode\n",
       "23843   -80995\n",
       "23166   -74494\n",
       "23005   -19201\n",
       "84347    -9376\n",
       "23003    -9058\n",
       "Name: Quantity, dtype: int64"
      ]
     },
     "execution_count": 226,
     "metadata": {},
     "output_type": "execute_result"
    }
   ],
   "source": [
    "#8. List top 5 retured products(by total returned quantity)\n",
    "returned_qty=returns.groupby('StockCode')['Quantity'].sum().sort_values()\n",
    "top_5=returned_qty.head()\n",
    "top_5"
   ]
  },
  {
   "cell_type": "markdown",
   "id": "f4a1db24-daed-46fb-bb4d-a9312b5eb012",
   "metadata": {},
   "source": [
    "# Part 6: Advanced Analysis"
   ]
  },
  {
   "cell_type": "code",
   "execution_count": 239,
   "id": "2196faa4-4175-49d1-8506-458e20029fb9",
   "metadata": {},
   "outputs": [
    {
     "data": {
      "text/html": [
       "<div>\n",
       "<style scoped>\n",
       "    .dataframe tbody tr th:only-of-type {\n",
       "        vertical-align: middle;\n",
       "    }\n",
       "\n",
       "    .dataframe tbody tr th {\n",
       "        vertical-align: top;\n",
       "    }\n",
       "\n",
       "    .dataframe thead th {\n",
       "        text-align: right;\n",
       "    }\n",
       "</style>\n",
       "<table border=\"1\" class=\"dataframe\">\n",
       "  <thead>\n",
       "    <tr style=\"text-align: right;\">\n",
       "      <th></th>\n",
       "      <th>DistinctProducts</th>\n",
       "      <th>AvgUnitPrice</th>\n",
       "      <th>Revenue</th>\n",
       "      <th>InvoiceCount</th>\n",
       "    </tr>\n",
       "    <tr>\n",
       "      <th>Customer ID</th>\n",
       "      <th></th>\n",
       "      <th></th>\n",
       "      <th></th>\n",
       "      <th></th>\n",
       "    </tr>\n",
       "  </thead>\n",
       "  <tbody>\n",
       "    <tr>\n",
       "      <th>14646.0</th>\n",
       "      <td>703</td>\n",
       "      <td>2.590029</td>\n",
       "      <td>279489.02</td>\n",
       "      <td>77</td>\n",
       "    </tr>\n",
       "    <tr>\n",
       "      <th>18102.0</th>\n",
       "      <td>151</td>\n",
       "      <td>11.916236</td>\n",
       "      <td>256438.49</td>\n",
       "      <td>62</td>\n",
       "    </tr>\n",
       "    <tr>\n",
       "      <th>17450.0</th>\n",
       "      <td>127</td>\n",
       "      <td>9.458946</td>\n",
       "      <td>187482.17</td>\n",
       "      <td>55</td>\n",
       "    </tr>\n",
       "    <tr>\n",
       "      <th>14911.0</th>\n",
       "      <td>1794</td>\n",
       "      <td>5.261843</td>\n",
       "      <td>132572.62</td>\n",
       "      <td>248</td>\n",
       "    </tr>\n",
       "    <tr>\n",
       "      <th>12415.0</th>\n",
       "      <td>444</td>\n",
       "      <td>3.213136</td>\n",
       "      <td>123725.45</td>\n",
       "      <td>26</td>\n",
       "    </tr>\n",
       "  </tbody>\n",
       "</table>\n",
       "</div>"
      ],
      "text/plain": [
       "             DistinctProducts  AvgUnitPrice    Revenue  InvoiceCount\n",
       "Customer ID                                                         \n",
       "14646.0                   703      2.590029  279489.02            77\n",
       "18102.0                   151     11.916236  256438.49            62\n",
       "17450.0                   127      9.458946  187482.17            55\n",
       "14911.0                  1794      5.261843  132572.62           248\n",
       "12415.0                   444      3.213136  123725.45            26"
      ]
     },
     "execution_count": 239,
     "metadata": {},
     "output_type": "execute_result"
    }
   ],
   "source": [
    "#1.\tFor each customer, compute:\n",
    "customer_metric=df.groupby('Customer ID').agg(\n",
    "    DistinctProducts=('StockCode','nunique'),\n",
    "    AvgUnitPrice=('Price','mean'),\n",
    "    Revenue=('TotalPrice','sum'),\n",
    "    InvoiceCount=('Invoice','nunique')\n",
    ").sort_values(by='Revenue',ascending=False)\n",
    "\n",
    "customer_metric.head()\n",
    "# ○\tDistinct products purchased\n",
    "\n",
    "# ○\tAverage unit price\n",
    "\n",
    "# ○\tRevenue and invoice count\n"
   ]
  },
  {
   "cell_type": "code",
   "execution_count": 243,
   "id": "64f71103-bddc-4c8a-ab66-42892f563b74",
   "metadata": {},
   "outputs": [
    {
     "data": {
      "text/html": [
       "<div>\n",
       "<style scoped>\n",
       "    .dataframe tbody tr th:only-of-type {\n",
       "        vertical-align: middle;\n",
       "    }\n",
       "\n",
       "    .dataframe tbody tr th {\n",
       "        vertical-align: top;\n",
       "    }\n",
       "\n",
       "    .dataframe thead th {\n",
       "        text-align: right;\n",
       "    }\n",
       "</style>\n",
       "<table border=\"1\" class=\"dataframe\">\n",
       "  <thead>\n",
       "    <tr style=\"text-align: right;\">\n",
       "      <th></th>\n",
       "      <th>AppearanceCount</th>\n",
       "      <th>MedianUnitPrice</th>\n",
       "      <th>RevenuePerUnit</th>\n",
       "    </tr>\n",
       "    <tr>\n",
       "      <th>StockCode</th>\n",
       "      <th></th>\n",
       "      <th></th>\n",
       "      <th></th>\n",
       "    </tr>\n",
       "  </thead>\n",
       "  <tbody>\n",
       "    <tr>\n",
       "      <th>DOT</th>\n",
       "      <td>710</td>\n",
       "      <td>184.94</td>\n",
       "      <td>206245.48</td>\n",
       "    </tr>\n",
       "    <tr>\n",
       "      <th>22423</th>\n",
       "      <td>2203</td>\n",
       "      <td>12.75</td>\n",
       "      <td>164762.19</td>\n",
       "    </tr>\n",
       "    <tr>\n",
       "      <th>47566</th>\n",
       "      <td>1727</td>\n",
       "      <td>4.95</td>\n",
       "      <td>98302.98</td>\n",
       "    </tr>\n",
       "    <tr>\n",
       "      <th>85123A</th>\n",
       "      <td>2313</td>\n",
       "      <td>2.95</td>\n",
       "      <td>97894.50</td>\n",
       "    </tr>\n",
       "    <tr>\n",
       "      <th>85099B</th>\n",
       "      <td>2159</td>\n",
       "      <td>2.08</td>\n",
       "      <td>92356.03</td>\n",
       "    </tr>\n",
       "  </tbody>\n",
       "</table>\n",
       "</div>"
      ],
      "text/plain": [
       "           AppearanceCount  MedianUnitPrice  RevenuePerUnit\n",
       "StockCode                                                  \n",
       "DOT                    710           184.94       206245.48\n",
       "22423                 2203            12.75       164762.19\n",
       "47566                 1727             4.95        98302.98\n",
       "85123A                2313             2.95        97894.50\n",
       "85099B                2159             2.08        92356.03"
      ]
     },
     "execution_count": 243,
     "metadata": {},
     "output_type": "execute_result"
    }
   ],
   "source": [
    "#2.\tFor each product:\n",
    "\n",
    "# ○\tNumber of times it appears\n",
    "\n",
    "# ○\tMedian UnitPrice\n",
    "\n",
    "# ○\tRevenue per unit\n",
    "\n",
    "product_metrics=df.groupby('StockCode').agg(\n",
    "    AppearanceCount=('Invoice','count'),\n",
    "    MedianUnitPrice=('Price','median'),\n",
    "    RevenuePerUnit=('TotalPrice','sum')\n",
    ").sort_values(by='RevenuePerUnit',ascending=False)\n",
    "product_metrics.head()"
   ]
  },
  {
   "cell_type": "code",
   "execution_count": 255,
   "id": "af11914b-9193-4e5c-b002-85b625782a19",
   "metadata": {},
   "outputs": [
    {
     "data": {
      "text/html": [
       "<div>\n",
       "<style scoped>\n",
       "    .dataframe tbody tr th:only-of-type {\n",
       "        vertical-align: middle;\n",
       "    }\n",
       "\n",
       "    .dataframe tbody tr th {\n",
       "        vertical-align: top;\n",
       "    }\n",
       "\n",
       "    .dataframe thead th {\n",
       "        text-align: right;\n",
       "    }\n",
       "</style>\n",
       "<table border=\"1\" class=\"dataframe\">\n",
       "  <thead>\n",
       "    <tr style=\"text-align: right;\">\n",
       "      <th></th>\n",
       "      <th>Customer ID</th>\n",
       "      <th>HasCancelled</th>\n",
       "    </tr>\n",
       "  </thead>\n",
       "  <tbody>\n",
       "    <tr>\n",
       "      <th>0</th>\n",
       "      <td>17850.0</td>\n",
       "      <td>True</td>\n",
       "    </tr>\n",
       "    <tr>\n",
       "      <th>9</th>\n",
       "      <td>13047.0</td>\n",
       "      <td>True</td>\n",
       "    </tr>\n",
       "    <tr>\n",
       "      <th>26</th>\n",
       "      <td>12583.0</td>\n",
       "      <td>True</td>\n",
       "    </tr>\n",
       "    <tr>\n",
       "      <th>46</th>\n",
       "      <td>13748.0</td>\n",
       "      <td>False</td>\n",
       "    </tr>\n",
       "    <tr>\n",
       "      <th>65</th>\n",
       "      <td>15100.0</td>\n",
       "      <td>True</td>\n",
       "    </tr>\n",
       "  </tbody>\n",
       "</table>\n",
       "</div>"
      ],
      "text/plain": [
       "    Customer ID  HasCancelled\n",
       "0       17850.0          True\n",
       "9       13047.0          True\n",
       "26      12583.0          True\n",
       "46      13748.0         False\n",
       "65      15100.0          True"
      ]
     },
     "execution_count": 255,
     "metadata": {},
     "output_type": "execute_result"
    }
   ],
   "source": [
    "#3.\tFlag customers with at least one cancellation (InvoiceNo starts with 'C').\n",
    "cancel_flags=df[df['Invoice'].astype(str).str.startswith('C')]\n",
    "cancelled_cust=cancel_flags['Customer ID'].unique()\n",
    "df['HasCancelled']=df['Customer ID'].isin(cancelled_cust)\n",
    "\n",
    "df[['Customer ID', \"HasCancelled\"]].drop_duplicates().head()"
   ]
  },
  {
   "cell_type": "code",
   "execution_count": 259,
   "id": "34bb6e2e-0b6c-4683-84dc-f8e0fd4e23f9",
   "metadata": {},
   "outputs": [
    {
     "data": {
      "text/plain": [
       "Invoice\n",
       "A563186   -11062.06\n",
       "A563187   -11062.06\n",
       "C536379      -27.50\n",
       "C536383       -4.65\n",
       "C536391     -141.48\n",
       "Name: TotalPrice, dtype: float64"
      ]
     },
     "execution_count": 259,
     "metadata": {},
     "output_type": "execute_result"
    }
   ],
   "source": [
    "#4 4.\tFind fully returned invoices (TotalPrice < 0).\n",
    "\n",
    "invoice_tot=df.groupby('Invoice')['TotalPrice'].sum()\n",
    "fully_returned_invoic=invoice_tot[invoice_tot<0]\n",
    "fully_returned_invoic.head()"
   ]
  },
  {
   "cell_type": "code",
   "execution_count": 263,
   "id": "4fedaf9e-ef60-4c5b-a04d-52007f702d75",
   "metadata": {},
   "outputs": [
    {
     "data": {
      "text/plain": [
       "Customer ID\n",
       "16333.0    26626.80\n",
       "16210.0    21086.30\n",
       "12433.0    13375.87\n",
       "17735.0    13110.02\n",
       "16000.0    12393.70\n",
       "Name: TotalPrice, dtype: float64"
      ]
     },
     "execution_count": 263,
     "metadata": {},
     "output_type": "execute_result"
    }
   ],
   "source": [
    "# 5.\tIdentify top 10 customers (excluding any with returns).\n",
    "\n",
    "no_return_df=df[~df['Customer ID'].isin(cancelled_cust)]\n",
    "top10=no_return_df.groupby('Customer ID')['TotalPrice'].sum().sort_values(ascending=False).head()\n",
    "top10"
   ]
  },
  {
   "cell_type": "markdown",
   "id": "fc279440-da76-4133-9a8b-06f39b2c643f",
   "metadata": {},
   "source": [
    "--------------------"
   ]
  },
  {
   "cell_type": "code",
   "execution_count": 282,
   "id": "3d90defe-9ef1-408a-bb61-828465b94541",
   "metadata": {},
   "outputs": [
    {
     "data": {
      "text/plain": [
       "2.08"
      ]
     },
     "execution_count": 282,
     "metadata": {},
     "output_type": "execute_result"
    }
   ],
   "source": [
    "# 1.\tSimulate missing data: randomly drop 10% of values in UnitPrice and fill with median.\n",
    "\n",
    "df.loc[df.sample(frac=0.10,random_state=42).index,'UnitPrice']=np.nan\n",
    "\n",
    "#will fill missing unitprice with median\n",
    "median_pric=df['Price'].median()\n",
    "df['Price'].fillna(median_pric,inplace=True)\n",
    "median_pric"
   ]
  },
  {
   "cell_type": "code",
   "execution_count": 306,
   "id": "1cbfadba-73b5-4001-8e8d-f37811c94746",
   "metadata": {},
   "outputs": [
    {
     "data": {
      "text/plain": [
       "StockCode\n",
       "84077     4571\n",
       "21212     3236\n",
       "22834     3202\n",
       "85123A    3130\n",
       "22693     2617\n",
       "Name: Quantity, dtype: int64"
      ]
     },
     "execution_count": 306,
     "metadata": {},
     "output_type": "execute_result"
    }
   ],
   "source": [
    "# 2.\tWrite a function to return the top 3 selling products for a given country and month.\n",
    "\n",
    "def top_3_prod(country,year,month):\n",
    "    temp=df.copy()\n",
    "\n",
    "    temp['InvoiceDate']=pd.to_datetime(temp['InvoiceDate'])\n",
    "#enusre data column\n",
    "    filtered=temp[\n",
    "        (temp['Country']==country) &\n",
    "        (temp['InvoiceDate'].dt.year==year) &\n",
    "        (temp['InvoiceDate'].dt.month==month)\n",
    "    ]\n",
    "\n",
    "    prod_sales=filtered.groupby('StockCode')['Quantity'].sum()\n",
    "\n",
    "    return prod_sales.sort_values(ascending=False).head()\n",
    "\n",
    "top_3_prod('United Kingdom',2010,12)"
   ]
  },
  {
   "cell_type": "code",
   "execution_count": 288,
   "id": "9b35f1b0-ecc8-46aa-b154-ead09d9b5e6a",
   "metadata": {},
   "outputs": [],
   "source": [
    "# 3.\tUse apply to label transactions as:\n",
    "\n",
    "# ○\t\"Low\" if TotalPrice < 20\n",
    "\n",
    "# ○\t\"Medium\" if 20 ≤ TotalPrice < 100\n",
    "\n",
    "# ○\t\"High\" if TotalPrice ≥ 100\n",
    "\n",
    "df['TotalPrice']=df['Quantity']*df['UnitPrice']"
   ]
  },
  {
   "cell_type": "code",
   "execution_count": 300,
   "id": "10c1aeab-e682-44c3-b48f-a69e158010bc",
   "metadata": {},
   "outputs": [
    {
     "data": {
      "text/html": [
       "<div>\n",
       "<style scoped>\n",
       "    .dataframe tbody tr th:only-of-type {\n",
       "        vertical-align: middle;\n",
       "    }\n",
       "\n",
       "    .dataframe tbody tr th {\n",
       "        vertical-align: top;\n",
       "    }\n",
       "\n",
       "    .dataframe thead th {\n",
       "        text-align: right;\n",
       "    }\n",
       "</style>\n",
       "<table border=\"1\" class=\"dataframe\">\n",
       "  <thead>\n",
       "    <tr style=\"text-align: right;\">\n",
       "      <th></th>\n",
       "      <th>TotalPrice</th>\n",
       "      <th>TransactionaLabel</th>\n",
       "    </tr>\n",
       "  </thead>\n",
       "  <tbody>\n",
       "    <tr>\n",
       "      <th>0</th>\n",
       "      <td>NaN</td>\n",
       "      <td>High</td>\n",
       "    </tr>\n",
       "    <tr>\n",
       "      <th>1</th>\n",
       "      <td>NaN</td>\n",
       "      <td>High</td>\n",
       "    </tr>\n",
       "    <tr>\n",
       "      <th>2</th>\n",
       "      <td>NaN</td>\n",
       "      <td>High</td>\n",
       "    </tr>\n",
       "    <tr>\n",
       "      <th>3</th>\n",
       "      <td>NaN</td>\n",
       "      <td>High</td>\n",
       "    </tr>\n",
       "    <tr>\n",
       "      <th>4</th>\n",
       "      <td>NaN</td>\n",
       "      <td>High</td>\n",
       "    </tr>\n",
       "  </tbody>\n",
       "</table>\n",
       "</div>"
      ],
      "text/plain": [
       "   TotalPrice TransactionaLabel\n",
       "0         NaN              High\n",
       "1         NaN              High\n",
       "2         NaN              High\n",
       "3         NaN              High\n",
       "4         NaN              High"
      ]
     },
     "execution_count": 300,
     "metadata": {},
     "output_type": "execute_result"
    }
   ],
   "source": [
    "def label_price(value):\n",
    "    if value<20:\n",
    "        return 'low'\n",
    "    elif 20<=value<100:\n",
    "        return \"Medium\"\n",
    "    else:\n",
    "        return \"High\"\n",
    "\n",
    "df['TransactionaLabel'] = df['TotalPrice'].apply(label_price)\n",
    "df[['TotalPrice','TransactionaLabel']].head()\n",
    "                                                                                                                                                                                                                                                                                                                                                                                                                                                                                                                                                                                                                                                                                                                                                                                                              "
   ]
  },
  {
   "cell_type": "code",
   "execution_count": null,
   "id": "4f8280cb-7e12-4a4d-953c-7b3470e48bed",
   "metadata": {},
   "outputs": [],
   "source": []
  }
 ],
 "metadata": {
  "kernelspec": {
   "display_name": "Python [conda env:base] *",
   "language": "python",
   "name": "conda-base-py"
  },
  "language_info": {
   "codemirror_mode": {
    "name": "ipython",
    "version": 3
   },
   "file_extension": ".py",
   "mimetype": "text/x-python",
   "name": "python",
   "nbconvert_exporter": "python",
   "pygments_lexer": "ipython3",
   "version": "3.11.7"
  }
 },
 "nbformat": 4,
 "nbformat_minor": 5
}
